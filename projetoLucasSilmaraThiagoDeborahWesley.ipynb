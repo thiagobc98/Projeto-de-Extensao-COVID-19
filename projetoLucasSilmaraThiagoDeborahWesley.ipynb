{
  "nbformat": 4,
  "nbformat_minor": 0,
  "metadata": {
    "colab": {
      "provenance": []
    },
    "kernelspec": {
      "name": "python3",
      "display_name": "Python 3"
    },
    "language_info": {
      "name": "python"
    }
  },
  "cells": [
    {
      "cell_type": "markdown",
      "metadata": {
        "id": "iZ2xThjvUN18"
      },
      "source": [
        "# Consumo de Cereais, Recuperação e Mortalidade por COVID-19\n",
        "---\n",
        "\n",
        "1. Lucas Tonetto Firmo, aluno do Bacharelado em Engenharia da Computação, Universidade São Judas Tadeu, São Paulo, SP, lucasfirmo@hotmail.com\n",
        "2. Silmara Eliza de Paula Silva, aluna do Tecnólogo em Análise e Desenvolvimento de Sistemas, Universidade São Judas Tadeu, São Paulo, SP, silmara.eliza@gmail.com\n",
        "3. Thiago Berberich Cabral, aluno do Bacharelado em Sistemas de Informação, Centro Universitário UNA, Belo Horizonte, MG, thiagocabral98.tc@gmail.com\n",
        "4.Deborah Figueiredo Vasconcelos Batista Lopes, docente do Centro Universitário UNA, Contagem, MG, deborah.fvasconcelos@gmail.com\n",
        "5. Wesley Dias Maciel, docente do Centro Universitário UNA, Contagem, MG, wesleydiasmaciel@gmail.com\n",
        "\n",
        "\n"
      ]
    },
    {
      "cell_type": "markdown",
      "metadata": {
        "id": "4mOcfxrzlrzH"
      },
      "source": [
        "# Definições"
      ]
    },
    {
      "cell_type": "code",
      "metadata": {
        "id": "ob55mANEhtVq"
      },
      "source": [
        "import warnings\n",
        "import numpy as np\n",
        "import matplotlib.pyplot as plt\n",
        "from sklearn.linear_model import LinearRegression\n",
        "from scipy import stats\n",
        "\n",
        "warnings.filterwarnings(\"ignore\", category=np.VisibleDeprecationWarning)\n",
        "plt.style.use (\"classic\")\n",
        "%matplotlib inline\n",
        "\n",
        "def ler_valores(df, coluna):\n",
        "  return df[coluna].dropna().values.reshape(-1,1)\n",
        "\n",
        "def regressao_linear(xdata, ydata, xlabel, ylabel):\n",
        "  reg = LinearRegression()\n",
        "  reg.fit(xdata, ydata)\n",
        "\n",
        "  print(\"\\nEquação: y = {:.5} + {:.5}X\\n\\n\".format(reg.intercept_[0], reg.coef_[0][0]))\n",
        "\n",
        "  previsoes = reg.predict(xdata)\n",
        "\n",
        "  plt.scatter(xdata, ydata)\n",
        "  plt.plot(xdata, previsoes)\n",
        "  plt.xlabel(xlabel)\n",
        "  plt.ylabel(ylabel)\n",
        "  #plt.ylim([85, 100])\n",
        "  plt.show()\n",
        "\n",
        "def grafico(df, xlabel, ylabel):\n",
        "  xdata = ler_valores(df, xlabel)\n",
        "  ydata = ler_valores(df, ylabel)\n",
        "  regressao_linear(xdata, ydata, xlabel, ylabel)\n",
        "\n",
        "def pearson_r(df):\n",
        "  print('Coeficiente r de correlação linear de Pearson:')\n",
        "  print()\n",
        "  print('Consumo x Recuperação: ', stats.pearsonr(df['Consumo de Cereais (%)'].dropna(), df['Taxa de Recuperação (%)'].dropna()))\n",
        "  print('r =', df['Consumo de Cereais (%)'].dropna().corr(df['Taxa de Recuperação (%)'].dropna()))\n",
        "  print()\n",
        "  print('Consumo x Mortalidade: ', stats.pearsonr(df['Consumo de Cereais (%)'].dropna(), df['Taxa de Mortalidade (%)'].dropna()))\n",
        "  print('r =', df['Consumo de Cereais (%)'].dropna().corr(df['Taxa de Mortalidade (%)'].dropna()))\n",
        "\n",
        "def apresentar(df):\n",
        "  pearson_r(df)\n",
        "  print()\n",
        "  grafico(df, 'Consumo de Cereais (%)', 'Taxa de Recuperação (%)')\n",
        "  print()\n",
        "  grafico(df, 'Consumo de Cereais (%)', 'Taxa de Mortalidade (%)')\n",
        "\n",
        "def grafico_boxplot(df):\n",
        "  df.boxplot(column=['Consumo de Cereais (%)'], by='Agrupamento').set(xlabel='Grupo de Países', ylabel='Consumo de Cereais (%)', title='')\n",
        "  plt.title('')\n",
        "  plt.suptitle('')\n",
        "  plt.show()\n",
        "  print()\n",
        "\n",
        "  df.boxplot(column=['Taxa de Recuperação (%)'], by='Agrupamento').set(xlabel='Grupo de Países', ylabel='Taxa de Recuperação (%)', title='')\n",
        "  plt.title('')\n",
        "  plt.suptitle('')\n",
        "  plt.show()\n",
        "  print()\n",
        "\n",
        "  df.boxplot(column=['Taxa de Mortalidade (%)'], by='Agrupamento').set(xlabel='Grupo de Países', ylabel='Taxa de Mortalidade (%)', title='')\n",
        "  plt.title('')\n",
        "  plt.suptitle('')\n",
        "  plt.show()\n",
        "\n",
        "def concat_corr():\n",
        "  lista = [df_africa.corr().head(1),\n",
        "           df_america_sul.corr().head(1),\n",
        "           df_coz_nocivas.corr().head(1),\n",
        "           df_coz_saudaveis.corr().head(1),\n",
        "           df_europa.corr().head(1),\n",
        "           df_mediterraneo.corr().head(1),\n",
        "           df_nordicos.corr().head(1),\n",
        "           df_nordicos_sem_suecia.corr().head(1),\n",
        "           df_obesidade.corr().head(1),\n",
        "           df_todos.corr().head(1)]\n",
        "\n",
        "  rotulos = ['África Mediterrânea', 'América do Sul', 'Cozinhas Nocivas', 'Cozinhas Saudáveis','Europa Mediterrânea','Mediterrâneo Oriental', 'Nórdicos', 'Nórdicos sem a Suécia', 'Obesidade']\n",
        "\n",
        "  df_concat = pd.concat(lista, keys = rotulos)\n",
        "\n",
        "  return df_concat[['Taxa de Recuperação (%)', 'Taxa de Mortalidade (%)']]\n",
        "\n",
        "def filtro():\n",
        "  df_corr = concat_corr()\n",
        "  df_corr = df_corr[abs(df_corr['Taxa de Recuperação (%)']) >= 0.5]\n",
        "  return df_corr.sort_values('Taxa de Recuperação (%)')\n",
        "\n",
        "def grafico_dispersao(xdata, ydata, xlabel, ylabel, title):\n",
        "  newxdata = ['a', 'b', 'c', 'd', 'e', 'f', 'g', 'g*', 'h', ]\n",
        "  print('Legenda:')\n",
        "  for i in range(len(xdata)):\n",
        "    print(f'{newxdata[i]} = {xdata[i]}')\n",
        "  print()\n",
        "\n",
        "  cor =[]\n",
        "\n",
        "  for i in range(0, len(ydata)):\n",
        "    if abs(ydata[i]) < 0.5:\n",
        "      cor.append('red')\n",
        "    else:\n",
        "      cor.append('blue')\n",
        "\n",
        "  for i in range(len(newxdata)):\n",
        "    plt.scatter(newxdata[i], ydata[i], c = cor[i], s = 50, linewidth = 0)\n",
        "\n",
        "  plt.xlabel(xlabel)\n",
        "  plt.ylabel(ylabel)\n",
        "  plt.title(title)\n",
        "  plt.show()\n",
        "\n",
        "def grafico_dispersao_correlacoes(xdata, ydata_recuperacao, ydata_mortalidade):\n",
        "  grafico_dispersao(xdata, ydata_recuperacao, 'Grupo de Países', 'Coeficiente r de Correlação Linear', 'Taxa de Recuperação (%) x Consumo de Cereais (%)')\n",
        "  print()\n",
        "  grafico_dispersao(xdata, ydata_mortalidade, 'Grupo de Países', 'Coeficiente r de Correlação Linear', 'Taxa de Mortalidade (%) x Consumo de Cereais (%)')\n",
        "\n"
      ],
      "execution_count": null,
      "outputs": []
    },
    {
      "cell_type": "markdown",
      "metadata": {
        "id": "V9-RC4aalWwN"
      },
      "source": [
        "# DataFrames"
      ]
    },
    {
      "cell_type": "code",
      "metadata": {
        "colab": {
          "base_uri": "https://localhost:8080/"
        },
        "id": "LG-8UKIdUNbA",
        "outputId": "b559135c-1857-432d-aeb8-45334d148be8"
      },
      "source": [
        "from google.colab import drive\n",
        "drive.mount('/content/drive')"
      ],
      "execution_count": null,
      "outputs": [
        {
          "output_type": "stream",
          "name": "stdout",
          "text": [
            "Drive already mounted at /content/drive; to attempt to forcibly remount, call drive.mount(\"/content/drive\", force_remount=True).\n"
          ]
        }
      ]
    },
    {
      "cell_type": "code",
      "metadata": {
        "id": "ghppcV6x13eb"
      },
      "source": [
        "import pandas as pd\n",
        "\n",
        "df_africa = pd.read_excel('/content/drive/MyDrive/Aulas/UNA/IniciaçãoCientífica/2020/a_africa_mediterranea.xlsx')\n",
        "df_america_sul = pd.read_excel('/content/drive/MyDrive/Aulas/UNA/IniciaçãoCientífica/2020/b_america_do_sul.xlsx')\n",
        "df_coz_nocivas = pd.read_excel('/content/drive/MyDrive/Aulas/UNA/IniciaçãoCientífica/2020/c_cozinhas_nocivas.xlsx')\n",
        "df_coz_saudaveis = pd.read_excel('/content/drive/MyDrive/Aulas/UNA/IniciaçãoCientífica/2020/d_cozinhas_saudaveis.xlsx')\n",
        "df_europa = pd.read_excel('/content/drive/MyDrive/Aulas/UNA/IniciaçãoCientífica/2020/e_europa_mediterranea.xlsx')\n",
        "df_mediterraneo = pd.read_excel('/content/drive/MyDrive/Aulas/UNA/IniciaçãoCientífica/2020/f_mediterraneo_oriental.xlsx')\n",
        "df_nordicos = pd.read_excel('/content/drive/MyDrive/Aulas/UNA/IniciaçãoCientífica/2020/g_nordicos.xlsx')\n",
        "df_nordicos_sem_suecia = pd.read_excel('/content/drive/MyDrive/Aulas/UNA/IniciaçãoCientífica/2020/g_nordicos_sem_suecia.xlsx')\n",
        "df_obesidade = pd.read_excel('/content/drive/MyDrive/Aulas/UNA/IniciaçãoCientífica/2020/h_obesidade.xlsx')\n",
        "df_todos = pd.read_excel('/content/drive/MyDrive/Aulas/UNA/IniciaçãoCientífica/2020/todos_os_grupos_de_paises.xlsx')"
      ],
      "execution_count": null,
      "outputs": []
    },
    {
      "cell_type": "markdown",
      "metadata": {
        "id": "aaX17f0OnEkG"
      },
      "source": [
        "# Todos os Países"
      ]
    },
    {
      "cell_type": "code",
      "metadata": {
        "colab": {
          "base_uri": "https://localhost:8080/",
          "height": 1000
        },
        "id": "lJheQ1OR3hk8",
        "outputId": "1aa38170-99d4-4d2b-9ee6-b55be80d44ba"
      },
      "source": [
        "#DataFrame com o consumo de cereais (%), taxa de recuperação (%) e taxa de mortalidade (%) de todos os países considerados no estudo.\n",
        "df_todos_soma = df_todos.copy()\n",
        "df_todos_soma['Soma (%)'] = df_todos['Taxa de Recuperação (%)'] + df_todos['Taxa de Mortalidade (%)']\n",
        "df_todos_soma"
      ],
      "execution_count": null,
      "outputs": [
        {
          "output_type": "execute_result",
          "data": {
            "text/html": [
              "<div>\n",
              "<style scoped>\n",
              "    .dataframe tbody tr th:only-of-type {\n",
              "        vertical-align: middle;\n",
              "    }\n",
              "\n",
              "    .dataframe tbody tr th {\n",
              "        vertical-align: top;\n",
              "    }\n",
              "\n",
              "    .dataframe thead th {\n",
              "        text-align: right;\n",
              "    }\n",
              "</style>\n",
              "<table border=\"1\" class=\"dataframe\">\n",
              "  <thead>\n",
              "    <tr style=\"text-align: right;\">\n",
              "      <th></th>\n",
              "      <th>Agrupamento</th>\n",
              "      <th>Grupo</th>\n",
              "      <th>Países</th>\n",
              "      <th>Consumo de Cereais (%)</th>\n",
              "      <th>Taxa de Recuperação (%)</th>\n",
              "      <th>Taxa de Mortalidade (%)</th>\n",
              "      <th>Soma (%)</th>\n",
              "    </tr>\n",
              "  </thead>\n",
              "  <tbody>\n",
              "    <tr>\n",
              "      <th>0</th>\n",
              "      <td>a</td>\n",
              "      <td>África Mediterrânea</td>\n",
              "      <td>Argélia</td>\n",
              "      <td>26.5633</td>\n",
              "      <td>96.2955</td>\n",
              "      <td>3.7045</td>\n",
              "      <td>100.0</td>\n",
              "    </tr>\n",
              "    <tr>\n",
              "      <th>1</th>\n",
              "      <td>a</td>\n",
              "      <td>África Mediterrânea</td>\n",
              "      <td>Egito</td>\n",
              "      <td>30.3504</td>\n",
              "      <td>94.1870</td>\n",
              "      <td>5.8130</td>\n",
              "      <td>100.0</td>\n",
              "    </tr>\n",
              "    <tr>\n",
              "      <th>2</th>\n",
              "      <td>a</td>\n",
              "      <td>África Mediterrânea</td>\n",
              "      <td>Marrocos</td>\n",
              "      <td>29.9052</td>\n",
              "      <td>98.3228</td>\n",
              "      <td>1.6772</td>\n",
              "      <td>100.0</td>\n",
              "    </tr>\n",
              "    <tr>\n",
              "      <th>3</th>\n",
              "      <td>a</td>\n",
              "      <td>África Mediterrânea</td>\n",
              "      <td>Tunísia</td>\n",
              "      <td>25.1440</td>\n",
              "      <td>98.3876</td>\n",
              "      <td>1.6124</td>\n",
              "      <td>100.0</td>\n",
              "    </tr>\n",
              "    <tr>\n",
              "      <th>4</th>\n",
              "      <td>b</td>\n",
              "      <td>América do Sul</td>\n",
              "      <td>Argentina</td>\n",
              "      <td>13.6702</td>\n",
              "      <td>97.3472</td>\n",
              "      <td>2.6528</td>\n",
              "      <td>100.0</td>\n",
              "    </tr>\n",
              "    <tr>\n",
              "      <th>5</th>\n",
              "      <td>b</td>\n",
              "      <td>América do Sul</td>\n",
              "      <td>Bolívia</td>\n",
              "      <td>18.0364</td>\n",
              "      <td>93.8971</td>\n",
              "      <td>6.1029</td>\n",
              "      <td>100.0</td>\n",
              "    </tr>\n",
              "    <tr>\n",
              "      <th>6</th>\n",
              "      <td>b</td>\n",
              "      <td>América do Sul</td>\n",
              "      <td>Brasil</td>\n",
              "      <td>12.1671</td>\n",
              "      <td>97.0765</td>\n",
              "      <td>2.9235</td>\n",
              "      <td>100.0</td>\n",
              "    </tr>\n",
              "    <tr>\n",
              "      <th>7</th>\n",
              "      <td>b</td>\n",
              "      <td>América do Sul</td>\n",
              "      <td>Chile</td>\n",
              "      <td>17.7775</td>\n",
              "      <td>97.2257</td>\n",
              "      <td>2.7743</td>\n",
              "      <td>100.0</td>\n",
              "    </tr>\n",
              "    <tr>\n",
              "      <th>8</th>\n",
              "      <td>b</td>\n",
              "      <td>América do Sul</td>\n",
              "      <td>Colômbia</td>\n",
              "      <td>15.0380</td>\n",
              "      <td>96.9987</td>\n",
              "      <td>3.0013</td>\n",
              "      <td>100.0</td>\n",
              "    </tr>\n",
              "    <tr>\n",
              "      <th>9</th>\n",
              "      <td>b</td>\n",
              "      <td>América do Sul</td>\n",
              "      <td>Equador</td>\n",
              "      <td>22.6665</td>\n",
              "      <td>92.0103</td>\n",
              "      <td>7.9897</td>\n",
              "      <td>100.0</td>\n",
              "    </tr>\n",
              "    <tr>\n",
              "      <th>10</th>\n",
              "      <td>b</td>\n",
              "      <td>América do Sul</td>\n",
              "      <td>Paraguai</td>\n",
              "      <td>15.4044</td>\n",
              "      <td>97.8001</td>\n",
              "      <td>2.1999</td>\n",
              "      <td>100.0</td>\n",
              "    </tr>\n",
              "    <tr>\n",
              "      <th>11</th>\n",
              "      <td>b</td>\n",
              "      <td>América do Sul</td>\n",
              "      <td>Peru</td>\n",
              "      <td>18.8078</td>\n",
              "      <td>96.1299</td>\n",
              "      <td>3.8701</td>\n",
              "      <td>100.0</td>\n",
              "    </tr>\n",
              "    <tr>\n",
              "      <th>12</th>\n",
              "      <td>b</td>\n",
              "      <td>América do Sul</td>\n",
              "      <td>Uruguai</td>\n",
              "      <td>16.4397</td>\n",
              "      <td>98.0098</td>\n",
              "      <td>1.9902</td>\n",
              "      <td>100.0</td>\n",
              "    </tr>\n",
              "    <tr>\n",
              "      <th>13</th>\n",
              "      <td>c</td>\n",
              "      <td>Cozinhas Nocivas</td>\n",
              "      <td>Alemanha</td>\n",
              "      <td>12.9162</td>\n",
              "      <td>97.5131</td>\n",
              "      <td>2.4869</td>\n",
              "      <td>100.0</td>\n",
              "    </tr>\n",
              "    <tr>\n",
              "      <th>14</th>\n",
              "      <td>c</td>\n",
              "      <td>Cozinhas Nocivas</td>\n",
              "      <td>Argentina</td>\n",
              "      <td>13.6702</td>\n",
              "      <td>97.3472</td>\n",
              "      <td>2.6528</td>\n",
              "      <td>100.0</td>\n",
              "    </tr>\n",
              "    <tr>\n",
              "      <th>15</th>\n",
              "      <td>c</td>\n",
              "      <td>Cozinhas Nocivas</td>\n",
              "      <td>Bélgica</td>\n",
              "      <td>13.7687</td>\n",
              "      <td>95.8408</td>\n",
              "      <td>4.1592</td>\n",
              "      <td>100.0</td>\n",
              "    </tr>\n",
              "    <tr>\n",
              "      <th>16</th>\n",
              "      <td>c</td>\n",
              "      <td>Cozinhas Nocivas</td>\n",
              "      <td>Bielorrússia</td>\n",
              "      <td>13.7248</td>\n",
              "      <td>98.9545</td>\n",
              "      <td>1.0455</td>\n",
              "      <td>100.0</td>\n",
              "    </tr>\n",
              "    <tr>\n",
              "      <th>17</th>\n",
              "      <td>c</td>\n",
              "      <td>Cozinhas Nocivas</td>\n",
              "      <td>Estados Unidos da América</td>\n",
              "      <td>10.4594</td>\n",
              "      <td>97.3608</td>\n",
              "      <td>2.6392</td>\n",
              "      <td>100.0</td>\n",
              "    </tr>\n",
              "    <tr>\n",
              "      <th>18</th>\n",
              "      <td>c</td>\n",
              "      <td>Cozinhas Nocivas</td>\n",
              "      <td>Hungria</td>\n",
              "      <td>15.6506</td>\n",
              "      <td>97.5006</td>\n",
              "      <td>2.4994</td>\n",
              "      <td>100.0</td>\n",
              "    </tr>\n",
              "    <tr>\n",
              "      <th>19</th>\n",
              "      <td>c</td>\n",
              "      <td>Cozinhas Nocivas</td>\n",
              "      <td>República Tcheca</td>\n",
              "      <td>12.3208</td>\n",
              "      <td>99.1554</td>\n",
              "      <td>0.8446</td>\n",
              "      <td>100.0</td>\n",
              "    </tr>\n",
              "    <tr>\n",
              "      <th>20</th>\n",
              "      <td>d</td>\n",
              "      <td>Cozinhas Saudáveis</td>\n",
              "      <td>Etiópia</td>\n",
              "      <td>29.7303</td>\n",
              "      <td>98.4776</td>\n",
              "      <td>1.5224</td>\n",
              "      <td>100.0</td>\n",
              "    </tr>\n",
              "    <tr>\n",
              "      <th>21</th>\n",
              "      <td>d</td>\n",
              "      <td>Cozinhas Saudáveis</td>\n",
              "      <td>Finlândia</td>\n",
              "      <td>13.0758</td>\n",
              "      <td>97.5097</td>\n",
              "      <td>2.4903</td>\n",
              "      <td>100.0</td>\n",
              "    </tr>\n",
              "    <tr>\n",
              "      <th>22</th>\n",
              "      <td>d</td>\n",
              "      <td>Cozinhas Saudáveis</td>\n",
              "      <td>Índia</td>\n",
              "      <td>25.2794</td>\n",
              "      <td>98.4879</td>\n",
              "      <td>1.5121</td>\n",
              "      <td>100.0</td>\n",
              "    </tr>\n",
              "    <tr>\n",
              "      <th>23</th>\n",
              "      <td>d</td>\n",
              "      <td>Cozinhas Saudáveis</td>\n",
              "      <td>Islândia</td>\n",
              "      <td>9.3826</td>\n",
              "      <td>99.7423</td>\n",
              "      <td>0.2577</td>\n",
              "      <td>100.0</td>\n",
              "    </tr>\n",
              "    <tr>\n",
              "      <th>24</th>\n",
              "      <td>d</td>\n",
              "      <td>Cozinhas Saudáveis</td>\n",
              "      <td>Israel</td>\n",
              "      <td>12.7832</td>\n",
              "      <td>99.2477</td>\n",
              "      <td>0.7523</td>\n",
              "      <td>100.0</td>\n",
              "    </tr>\n",
              "    <tr>\n",
              "      <th>25</th>\n",
              "      <td>d</td>\n",
              "      <td>Cozinhas Saudáveis</td>\n",
              "      <td>Japão</td>\n",
              "      <td>12.4213</td>\n",
              "      <td>98.2174</td>\n",
              "      <td>1.7826</td>\n",
              "      <td>100.0</td>\n",
              "    </tr>\n",
              "    <tr>\n",
              "      <th>26</th>\n",
              "      <td>d</td>\n",
              "      <td>Cozinhas Saudáveis</td>\n",
              "      <td>Vietnã</td>\n",
              "      <td>18.5247</td>\n",
              "      <td>96.9513</td>\n",
              "      <td>3.0487</td>\n",
              "      <td>100.0</td>\n",
              "    </tr>\n",
              "    <tr>\n",
              "      <th>27</th>\n",
              "      <td>e</td>\n",
              "      <td>Europa Mediterrânea</td>\n",
              "      <td>Espanha</td>\n",
              "      <td>11.2506</td>\n",
              "      <td>96.8345</td>\n",
              "      <td>3.1655</td>\n",
              "      <td>100.0</td>\n",
              "    </tr>\n",
              "    <tr>\n",
              "      <th>28</th>\n",
              "      <td>e</td>\n",
              "      <td>Europa Mediterrânea</td>\n",
              "      <td>França</td>\n",
              "      <td>13.4993</td>\n",
              "      <td>96.5758</td>\n",
              "      <td>3.4242</td>\n",
              "      <td>100.0</td>\n",
              "    </tr>\n",
              "    <tr>\n",
              "      <th>29</th>\n",
              "      <td>e</td>\n",
              "      <td>Europa Mediterrânea</td>\n",
              "      <td>Grécia</td>\n",
              "      <td>14.5430</td>\n",
              "      <td>98.0543</td>\n",
              "      <td>1.9457</td>\n",
              "      <td>100.0</td>\n",
              "    </tr>\n",
              "    <tr>\n",
              "      <th>30</th>\n",
              "      <td>e</td>\n",
              "      <td>Europa Mediterrânea</td>\n",
              "      <td>Itália</td>\n",
              "      <td>16.4832</td>\n",
              "      <td>92.0623</td>\n",
              "      <td>7.9377</td>\n",
              "      <td>100.0</td>\n",
              "    </tr>\n",
              "    <tr>\n",
              "      <th>31</th>\n",
              "      <td>f</td>\n",
              "      <td>Mediterrâneo Oriental</td>\n",
              "      <td>Egito</td>\n",
              "      <td>30.3504</td>\n",
              "      <td>94.1870</td>\n",
              "      <td>5.8130</td>\n",
              "      <td>100.0</td>\n",
              "    </tr>\n",
              "    <tr>\n",
              "      <th>32</th>\n",
              "      <td>f</td>\n",
              "      <td>Mediterrâneo Oriental</td>\n",
              "      <td>Israel</td>\n",
              "      <td>12.7832</td>\n",
              "      <td>99.2477</td>\n",
              "      <td>0.7523</td>\n",
              "      <td>100.0</td>\n",
              "    </tr>\n",
              "    <tr>\n",
              "      <th>33</th>\n",
              "      <td>f</td>\n",
              "      <td>Mediterrâneo Oriental</td>\n",
              "      <td>Líbano</td>\n",
              "      <td>23.2690</td>\n",
              "      <td>99.1765</td>\n",
              "      <td>0.8235</td>\n",
              "      <td>100.0</td>\n",
              "    </tr>\n",
              "    <tr>\n",
              "      <th>34</th>\n",
              "      <td>f</td>\n",
              "      <td>Mediterrâneo Oriental</td>\n",
              "      <td>Turquia</td>\n",
              "      <td>20.5038</td>\n",
              "      <td>97.3043</td>\n",
              "      <td>2.6957</td>\n",
              "      <td>100.0</td>\n",
              "    </tr>\n",
              "    <tr>\n",
              "      <th>35</th>\n",
              "      <td>g</td>\n",
              "      <td>Nórdicos</td>\n",
              "      <td>Dinamarca</td>\n",
              "      <td>12.0400</td>\n",
              "      <td>98.1623</td>\n",
              "      <td>1.8377</td>\n",
              "      <td>100.0</td>\n",
              "    </tr>\n",
              "    <tr>\n",
              "      <th>36</th>\n",
              "      <td>g</td>\n",
              "      <td>Nórdicos</td>\n",
              "      <td>Finlândia</td>\n",
              "      <td>13.0758</td>\n",
              "      <td>97.5097</td>\n",
              "      <td>2.4903</td>\n",
              "      <td>100.0</td>\n",
              "    </tr>\n",
              "    <tr>\n",
              "      <th>37</th>\n",
              "      <td>g</td>\n",
              "      <td>Nórdicos</td>\n",
              "      <td>Islândia</td>\n",
              "      <td>9.3826</td>\n",
              "      <td>99.7423</td>\n",
              "      <td>0.2577</td>\n",
              "      <td>100.0</td>\n",
              "    </tr>\n",
              "    <tr>\n",
              "      <th>38</th>\n",
              "      <td>g</td>\n",
              "      <td>Nórdicos</td>\n",
              "      <td>Noruega</td>\n",
              "      <td>11.9831</td>\n",
              "      <td>98.3709</td>\n",
              "      <td>1.6291</td>\n",
              "      <td>100.0</td>\n",
              "    </tr>\n",
              "    <tr>\n",
              "      <th>39</th>\n",
              "      <td>g</td>\n",
              "      <td>Nórdicos</td>\n",
              "      <td>Suécia</td>\n",
              "      <td>12.2651</td>\n",
              "      <td>94.5581</td>\n",
              "      <td>5.4419</td>\n",
              "      <td>100.0</td>\n",
              "    </tr>\n",
              "    <tr>\n",
              "      <th>40</th>\n",
              "      <td>h</td>\n",
              "      <td>Obesidade</td>\n",
              "      <td>Belize</td>\n",
              "      <td>18.6156</td>\n",
              "      <td>98.4338</td>\n",
              "      <td>1.5662</td>\n",
              "      <td>100.0</td>\n",
              "    </tr>\n",
              "    <tr>\n",
              "      <th>41</th>\n",
              "      <td>h</td>\n",
              "      <td>Obesidade</td>\n",
              "      <td>Emirados Árabes Unidos</td>\n",
              "      <td>16.2513</td>\n",
              "      <td>99.6004</td>\n",
              "      <td>0.3996</td>\n",
              "      <td>100.0</td>\n",
              "    </tr>\n",
              "    <tr>\n",
              "      <th>42</th>\n",
              "      <td>h</td>\n",
              "      <td>Obesidade</td>\n",
              "      <td>Estados Unidos da América</td>\n",
              "      <td>10.4594</td>\n",
              "      <td>97.3608</td>\n",
              "      <td>2.6392</td>\n",
              "      <td>100.0</td>\n",
              "    </tr>\n",
              "    <tr>\n",
              "      <th>43</th>\n",
              "      <td>h</td>\n",
              "      <td>Obesidade</td>\n",
              "      <td>Kuwait</td>\n",
              "      <td>17.5357</td>\n",
              "      <td>99.3888</td>\n",
              "      <td>0.6112</td>\n",
              "      <td>100.0</td>\n",
              "    </tr>\n",
              "    <tr>\n",
              "      <th>44</th>\n",
              "      <td>h</td>\n",
              "      <td>Obesidade</td>\n",
              "      <td>Malta</td>\n",
              "      <td>13.7350</td>\n",
              "      <td>99.0462</td>\n",
              "      <td>0.9538</td>\n",
              "      <td>100.0</td>\n",
              "    </tr>\n",
              "    <tr>\n",
              "      <th>45</th>\n",
              "      <td>h</td>\n",
              "      <td>Obesidade</td>\n",
              "      <td>México</td>\n",
              "      <td>19.3737</td>\n",
              "      <td>89.9241</td>\n",
              "      <td>10.0759</td>\n",
              "      <td>100.0</td>\n",
              "    </tr>\n",
              "    <tr>\n",
              "      <th>46</th>\n",
              "      <td>h</td>\n",
              "      <td>Obesidade</td>\n",
              "      <td>Venezuela</td>\n",
              "      <td>21.6526</td>\n",
              "      <td>99.1447</td>\n",
              "      <td>0.8553</td>\n",
              "      <td>100.0</td>\n",
              "    </tr>\n",
              "    <tr>\n",
              "      <th>47</th>\n",
              "      <td>g*</td>\n",
              "      <td>Nórdicos sem a Suécia</td>\n",
              "      <td>Dinamarca</td>\n",
              "      <td>12.0400</td>\n",
              "      <td>98.1623</td>\n",
              "      <td>1.8377</td>\n",
              "      <td>100.0</td>\n",
              "    </tr>\n",
              "    <tr>\n",
              "      <th>48</th>\n",
              "      <td>g*</td>\n",
              "      <td>Nórdicos sem a Suécia</td>\n",
              "      <td>Finlândia</td>\n",
              "      <td>13.0758</td>\n",
              "      <td>97.5097</td>\n",
              "      <td>2.4903</td>\n",
              "      <td>100.0</td>\n",
              "    </tr>\n",
              "    <tr>\n",
              "      <th>49</th>\n",
              "      <td>g*</td>\n",
              "      <td>Nórdicos sem a Suécia</td>\n",
              "      <td>Islândia</td>\n",
              "      <td>9.3826</td>\n",
              "      <td>99.7423</td>\n",
              "      <td>0.2577</td>\n",
              "      <td>100.0</td>\n",
              "    </tr>\n",
              "    <tr>\n",
              "      <th>50</th>\n",
              "      <td>g*</td>\n",
              "      <td>Nórdicos sem a Suécia</td>\n",
              "      <td>Noruega</td>\n",
              "      <td>11.9831</td>\n",
              "      <td>98.3709</td>\n",
              "      <td>1.6291</td>\n",
              "      <td>100.0</td>\n",
              "    </tr>\n",
              "  </tbody>\n",
              "</table>\n",
              "</div>"
            ],
            "text/plain": [
              "   Agrupamento                  Grupo  ... Taxa de Mortalidade (%)  Soma (%)\n",
              "0            a    África Mediterrânea  ...                  3.7045     100.0\n",
              "1            a    África Mediterrânea  ...                  5.8130     100.0\n",
              "2            a    África Mediterrânea  ...                  1.6772     100.0\n",
              "3            a    África Mediterrânea  ...                  1.6124     100.0\n",
              "4            b         América do Sul  ...                  2.6528     100.0\n",
              "5            b         América do Sul  ...                  6.1029     100.0\n",
              "6            b         América do Sul  ...                  2.9235     100.0\n",
              "7            b         América do Sul  ...                  2.7743     100.0\n",
              "8            b         América do Sul  ...                  3.0013     100.0\n",
              "9            b         América do Sul  ...                  7.9897     100.0\n",
              "10           b         América do Sul  ...                  2.1999     100.0\n",
              "11           b         América do Sul  ...                  3.8701     100.0\n",
              "12           b         América do Sul  ...                  1.9902     100.0\n",
              "13           c       Cozinhas Nocivas  ...                  2.4869     100.0\n",
              "14           c       Cozinhas Nocivas  ...                  2.6528     100.0\n",
              "15           c       Cozinhas Nocivas  ...                  4.1592     100.0\n",
              "16           c       Cozinhas Nocivas  ...                  1.0455     100.0\n",
              "17           c       Cozinhas Nocivas  ...                  2.6392     100.0\n",
              "18           c       Cozinhas Nocivas  ...                  2.4994     100.0\n",
              "19           c       Cozinhas Nocivas  ...                  0.8446     100.0\n",
              "20           d     Cozinhas Saudáveis  ...                  1.5224     100.0\n",
              "21           d     Cozinhas Saudáveis  ...                  2.4903     100.0\n",
              "22           d     Cozinhas Saudáveis  ...                  1.5121     100.0\n",
              "23           d     Cozinhas Saudáveis  ...                  0.2577     100.0\n",
              "24           d     Cozinhas Saudáveis  ...                  0.7523     100.0\n",
              "25           d     Cozinhas Saudáveis  ...                  1.7826     100.0\n",
              "26           d     Cozinhas Saudáveis  ...                  3.0487     100.0\n",
              "27           e    Europa Mediterrânea  ...                  3.1655     100.0\n",
              "28           e    Europa Mediterrânea  ...                  3.4242     100.0\n",
              "29           e    Europa Mediterrânea  ...                  1.9457     100.0\n",
              "30           e    Europa Mediterrânea  ...                  7.9377     100.0\n",
              "31           f  Mediterrâneo Oriental  ...                  5.8130     100.0\n",
              "32           f  Mediterrâneo Oriental  ...                  0.7523     100.0\n",
              "33           f  Mediterrâneo Oriental  ...                  0.8235     100.0\n",
              "34           f  Mediterrâneo Oriental  ...                  2.6957     100.0\n",
              "35           g               Nórdicos  ...                  1.8377     100.0\n",
              "36           g               Nórdicos  ...                  2.4903     100.0\n",
              "37           g               Nórdicos  ...                  0.2577     100.0\n",
              "38           g               Nórdicos  ...                  1.6291     100.0\n",
              "39           g               Nórdicos  ...                  5.4419     100.0\n",
              "40           h              Obesidade  ...                  1.5662     100.0\n",
              "41           h              Obesidade  ...                  0.3996     100.0\n",
              "42           h              Obesidade  ...                  2.6392     100.0\n",
              "43           h              Obesidade  ...                  0.6112     100.0\n",
              "44           h              Obesidade  ...                  0.9538     100.0\n",
              "45           h              Obesidade  ...                 10.0759     100.0\n",
              "46           h              Obesidade  ...                  0.8553     100.0\n",
              "47          g*  Nórdicos sem a Suécia  ...                  1.8377     100.0\n",
              "48          g*  Nórdicos sem a Suécia  ...                  2.4903     100.0\n",
              "49          g*  Nórdicos sem a Suécia  ...                  0.2577     100.0\n",
              "50          g*  Nórdicos sem a Suécia  ...                  1.6291     100.0\n",
              "\n",
              "[51 rows x 7 columns]"
            ]
          },
          "metadata": {},
          "execution_count": 54
        }
      ]
    },
    {
      "cell_type": "code",
      "metadata": {
        "colab": {
          "base_uri": "https://localhost:8080/",
          "height": 300
        },
        "id": "O_Je8-Re-a53",
        "outputId": "7384037c-af2f-4d65-c0ca-f76a624ec5a6"
      },
      "source": [
        "#DataFrame com dados estatísticos sobre o consumo de cereais (%), taxa de recuperação (%) e taxa de mortalidade (%) para todos os países considerados no estudo.\n",
        "df_todos.describe()"
      ],
      "execution_count": null,
      "outputs": [
        {
          "output_type": "execute_result",
          "data": {
            "text/html": [
              "<div>\n",
              "<style scoped>\n",
              "    .dataframe tbody tr th:only-of-type {\n",
              "        vertical-align: middle;\n",
              "    }\n",
              "\n",
              "    .dataframe tbody tr th {\n",
              "        vertical-align: top;\n",
              "    }\n",
              "\n",
              "    .dataframe thead th {\n",
              "        text-align: right;\n",
              "    }\n",
              "</style>\n",
              "<table border=\"1\" class=\"dataframe\">\n",
              "  <thead>\n",
              "    <tr style=\"text-align: right;\">\n",
              "      <th></th>\n",
              "      <th>Consumo de Cereais (%)</th>\n",
              "      <th>Taxa de Recuperação (%)</th>\n",
              "      <th>Taxa de Mortalidade (%)</th>\n",
              "    </tr>\n",
              "  </thead>\n",
              "  <tbody>\n",
              "    <tr>\n",
              "      <th>count</th>\n",
              "      <td>51.000000</td>\n",
              "      <td>51.000000</td>\n",
              "      <td>51.000000</td>\n",
              "    </tr>\n",
              "    <tr>\n",
              "      <th>mean</th>\n",
              "      <td>16.494361</td>\n",
              "      <td>97.342435</td>\n",
              "      <td>2.657565</td>\n",
              "    </tr>\n",
              "    <tr>\n",
              "      <th>std</th>\n",
              "      <td>5.797336</td>\n",
              "      <td>2.085661</td>\n",
              "      <td>2.085661</td>\n",
              "    </tr>\n",
              "    <tr>\n",
              "      <th>min</th>\n",
              "      <td>9.382600</td>\n",
              "      <td>89.924100</td>\n",
              "      <td>0.257700</td>\n",
              "    </tr>\n",
              "    <tr>\n",
              "      <th>25%</th>\n",
              "      <td>12.371050</td>\n",
              "      <td>96.975000</td>\n",
              "      <td>1.517250</td>\n",
              "    </tr>\n",
              "    <tr>\n",
              "      <th>50%</th>\n",
              "      <td>13.768700</td>\n",
              "      <td>97.513100</td>\n",
              "      <td>2.486900</td>\n",
              "    </tr>\n",
              "    <tr>\n",
              "      <th>75%</th>\n",
              "      <td>18.711700</td>\n",
              "      <td>98.482750</td>\n",
              "      <td>3.025000</td>\n",
              "    </tr>\n",
              "    <tr>\n",
              "      <th>max</th>\n",
              "      <td>30.350400</td>\n",
              "      <td>99.742300</td>\n",
              "      <td>10.075900</td>\n",
              "    </tr>\n",
              "  </tbody>\n",
              "</table>\n",
              "</div>"
            ],
            "text/plain": [
              "       Consumo de Cereais (%)  Taxa de Recuperação (%)  Taxa de Mortalidade (%)\n",
              "count               51.000000                51.000000                51.000000\n",
              "mean                16.494361                97.342435                 2.657565\n",
              "std                  5.797336                 2.085661                 2.085661\n",
              "min                  9.382600                89.924100                 0.257700\n",
              "25%                 12.371050                96.975000                 1.517250\n",
              "50%                 13.768700                97.513100                 2.486900\n",
              "75%                 18.711700                98.482750                 3.025000\n",
              "max                 30.350400                99.742300                10.075900"
            ]
          },
          "metadata": {},
          "execution_count": 55
        }
      ]
    },
    {
      "cell_type": "code",
      "metadata": {
        "colab": {
          "base_uri": "https://localhost:8080/",
          "height": 143
        },
        "id": "1P8srr3MtmWH",
        "outputId": "3235e6e4-70f3-42aa-867b-3e2dfe106093"
      },
      "source": [
        "#DataFrame com o coeficiente r de correlação linear de Pearson para todos os países.\n",
        "df_todos.corr()"
      ],
      "execution_count": null,
      "outputs": [
        {
          "output_type": "execute_result",
          "data": {
            "text/html": [
              "<div>\n",
              "<style scoped>\n",
              "    .dataframe tbody tr th:only-of-type {\n",
              "        vertical-align: middle;\n",
              "    }\n",
              "\n",
              "    .dataframe tbody tr th {\n",
              "        vertical-align: top;\n",
              "    }\n",
              "\n",
              "    .dataframe thead th {\n",
              "        text-align: right;\n",
              "    }\n",
              "</style>\n",
              "<table border=\"1\" class=\"dataframe\">\n",
              "  <thead>\n",
              "    <tr style=\"text-align: right;\">\n",
              "      <th></th>\n",
              "      <th>Consumo de Cereais (%)</th>\n",
              "      <th>Taxa de Recuperação (%)</th>\n",
              "      <th>Taxa de Mortalidade (%)</th>\n",
              "    </tr>\n",
              "  </thead>\n",
              "  <tbody>\n",
              "    <tr>\n",
              "      <th>Consumo de Cereais (%)</th>\n",
              "      <td>1.00000</td>\n",
              "      <td>-0.28598</td>\n",
              "      <td>0.28598</td>\n",
              "    </tr>\n",
              "    <tr>\n",
              "      <th>Taxa de Recuperação (%)</th>\n",
              "      <td>-0.28598</td>\n",
              "      <td>1.00000</td>\n",
              "      <td>-1.00000</td>\n",
              "    </tr>\n",
              "    <tr>\n",
              "      <th>Taxa de Mortalidade (%)</th>\n",
              "      <td>0.28598</td>\n",
              "      <td>-1.00000</td>\n",
              "      <td>1.00000</td>\n",
              "    </tr>\n",
              "  </tbody>\n",
              "</table>\n",
              "</div>"
            ],
            "text/plain": [
              "                         Consumo de Cereais (%)  ...  Taxa de Mortalidade (%)\n",
              "Consumo de Cereais (%)                  1.00000  ...                  0.28598\n",
              "Taxa de Recuperação (%)                -0.28598  ...                 -1.00000\n",
              "Taxa de Mortalidade (%)                 0.28598  ...                  1.00000\n",
              "\n",
              "[3 rows x 3 columns]"
            ]
          },
          "metadata": {},
          "execution_count": 56
        }
      ]
    },
    {
      "cell_type": "code",
      "metadata": {
        "colab": {
          "base_uri": "https://localhost:8080/",
          "height": 854
        },
        "id": "M-u8jHFiG_4F",
        "outputId": "5fda4462-0b2e-4228-e30f-6f8b7cdd4b7a"
      },
      "source": [
        "#Gráficos de regressão linear para todos os países.\n",
        "apresentar(df_todos)"
      ],
      "execution_count": null,
      "outputs": [
        {
          "output_type": "stream",
          "name": "stdout",
          "text": [
            "Coeficiente r de correlação linear de Pearson:\n",
            "\n",
            "Consumo x Recuperação:  (-0.28597956156815896, 0.041913677762184916)\n",
            "r = -0.28597956156815885\n",
            "\n",
            "Consumo x Mortalidade:  (0.2859795615681592, 0.04191367776218488)\n",
            "r = 0.2859795615681592\n",
            "\n",
            "\n",
            "Equação: y = 99.039 + -0.10288X\n",
            "\n",
            "\n"
          ]
        },
        {
          "output_type": "display_data",
          "data": {
            "image/png": "[encoded data removed]",
            "text/plain": [
              "<Figure size 432x288 with 1 Axes>"
            ]
          },
          "metadata": {
            "needs_background": "light"
          }
        },
        {
          "output_type": "stream",
          "name": "stdout",
          "text": [
            "\n",
            "\n",
            "Equação: y = 0.96055 + 0.10288X\n",
            "\n",
            "\n"
          ]
        },
        {
          "output_type": "display_data",
          "data": {
            "image/png": "[encoded data removed]",
            "text/plain": [
              "<Figure size 432x288 with 1 Axes>"
            ]
          },
          "metadata": {
            "needs_background": "light"
          }
        }
      ]
    },
    {
      "cell_type": "markdown",
      "metadata": {
        "id": "GLkGHzCPvDBl"
      },
      "source": [
        "# Grupos de Países"
      ]
    },
    {
      "cell_type": "code",
      "metadata": {
        "colab": {
          "base_uri": "https://localhost:8080/",
          "height": 331
        },
        "id": "6yj86MEZLPD9",
        "outputId": "7e95e743-db28-40ea-ce40-ae7a9a077e5f"
      },
      "source": [
        "#DataFrame com a média e o desvio padrão do consumo de cereais (%), da taxa de recuperação (%) e da taxa de mortalidade (%) de cada grupo de países.\n",
        "df = pd.DataFrame({'Média de Consumo'  : [df_africa['Consumo de Cereais (%)'].mean(),\n",
        "                                       df_america_sul['Consumo de Cereais (%)'].mean(),\n",
        "                                       df_coz_nocivas['Consumo de Cereais (%)'].mean(),\n",
        "                                       df_coz_saudaveis['Consumo de Cereais (%)'].mean(),\n",
        "                                       df_europa['Consumo de Cereais (%)'].mean(),\n",
        "                                       df_mediterraneo['Consumo de Cereais (%)'].mean(),\n",
        "                                       df_nordicos['Consumo de Cereais (%)'].mean(),\n",
        "                                       df_nordicos_sem_suecia['Consumo de Cereais (%)'].mean(),\n",
        "                                       df_obesidade['Consumo de Cereais (%)'].mean()],\n",
        "\n",
        "                   'DP de Consumo'     : [df_africa['Consumo de Cereais (%)'].std(ddof=0),\n",
        "                                       df_america_sul['Consumo de Cereais (%)'].std(ddof=0),\n",
        "                                       df_coz_nocivas['Consumo de Cereais (%)'].std(ddof=0),\n",
        "                                       df_coz_saudaveis['Consumo de Cereais (%)'].std(ddof=0),\n",
        "                                       df_europa['Consumo de Cereais (%)'].std(ddof=0),\n",
        "                                       df_mediterraneo['Consumo de Cereais (%)'].std(ddof=0),\n",
        "                                       df_nordicos['Consumo de Cereais (%)'].std(ddof=0),\n",
        "                                       df_nordicos_sem_suecia['Consumo de Cereais (%)'].std(ddof=0),\n",
        "                                       df_obesidade['Consumo de Cereais (%)'].std(ddof=0)],\n",
        "\n",
        "                   'Média de Recuperação'    : [df_africa['Taxa de Recuperação (%)'].mean(),\n",
        "                                       df_america_sul['Taxa de Recuperação (%)'].mean(),\n",
        "                                       df_coz_nocivas['Taxa de Recuperação (%)'].mean(),\n",
        "                                       df_coz_saudaveis['Taxa de Recuperação (%)'].mean(),\n",
        "                                       df_europa['Taxa de Recuperação (%)'].mean(),\n",
        "                                       df_mediterraneo['Taxa de Recuperação (%)'].mean(),\n",
        "                                       df_nordicos['Taxa de Recuperação (%)'].mean(),\n",
        "                                       df_nordicos_sem_suecia['Taxa de Recuperação (%)'].mean(),\n",
        "                                       df_obesidade['Taxa de Recuperação (%)'].mean()],\n",
        "\n",
        "                   'DP de Recuperação' : [df_africa['Taxa de Recuperação (%)'].std(ddof=0),\n",
        "                                       df_america_sul['Taxa de Recuperação (%)'].std(ddof=0),\n",
        "                                       df_coz_nocivas['Taxa de Recuperação (%)'].std(ddof=0),\n",
        "                                       df_coz_saudaveis['Taxa de Recuperação (%)'].std(ddof=0),\n",
        "                                       df_europa['Taxa de Recuperação (%)'].std(ddof=0),\n",
        "                                       df_mediterraneo['Taxa de Recuperação (%)'].std(ddof=0),\n",
        "                                       df_nordicos['Taxa de Recuperação (%)'].std(ddof=0),\n",
        "                                       df_nordicos_sem_suecia['Taxa de Recuperação (%)'].std(ddof=0),\n",
        "                                       df_obesidade['Taxa de Recuperação (%)'].std(ddof=0)],\n",
        "\n",
        "                   'Média de Mortalidade'    : [df_africa['Taxa de Mortalidade (%)'].mean(),\n",
        "                                       df_america_sul['Taxa de Mortalidade (%)'].mean(),\n",
        "                                       df_coz_nocivas['Taxa de Mortalidade (%)'].mean(),\n",
        "                                       df_coz_saudaveis['Taxa de Mortalidade (%)'].mean(),\n",
        "                                       df_europa['Taxa de Mortalidade (%)'].mean(),\n",
        "                                       df_mediterraneo['Taxa de Mortalidade (%)'].mean(),\n",
        "                                       df_nordicos['Taxa de Mortalidade (%)'].mean(),\n",
        "                                       df_nordicos_sem_suecia['Taxa de Mortalidade (%)'].mean(),\n",
        "                                       df_obesidade['Taxa de Mortalidade (%)'].mean()],\n",
        "\n",
        "                   'DP de Mortalidade' : [df_africa['Taxa de Mortalidade (%)'].std(ddof=0),\n",
        "                                       df_america_sul['Taxa de Mortalidade (%)'].std(ddof=0),\n",
        "                                       df_coz_nocivas['Taxa de Mortalidade (%)'].std(ddof=0),\n",
        "                                       df_coz_saudaveis['Taxa de Mortalidade (%)'].std(ddof=0),\n",
        "                                       df_europa['Taxa de Mortalidade (%)'].std(ddof=0),\n",
        "                                       df_mediterraneo['Taxa de Mortalidade (%)'].std(ddof=0),\n",
        "                                       df_nordicos['Taxa de Mortalidade (%)'].std(ddof=0),\n",
        "                                       df_nordicos_sem_suecia['Taxa de Mortalidade (%)'].std(ddof=0),\n",
        "                                       df_obesidade['Taxa de Mortalidade (%)'].std(ddof=0)]}, index=['África','América do Sul','Nocivas','Saudáveis','Europa','Mediterrâneo','Nórdicos','Nórdicos sem a Suécia', 'Obesidade'])\n",
        "df"
      ],
      "execution_count": null,
      "outputs": [
        {
          "output_type": "execute_result",
          "data": {
            "text/html": [
              "<div>\n",
              "<style scoped>\n",
              "    .dataframe tbody tr th:only-of-type {\n",
              "        vertical-align: middle;\n",
              "    }\n",
              "\n",
              "    .dataframe tbody tr th {\n",
              "        vertical-align: top;\n",
              "    }\n",
              "\n",
              "    .dataframe thead th {\n",
              "        text-align: right;\n",
              "    }\n",
              "</style>\n",
              "<table border=\"1\" class=\"dataframe\">\n",
              "  <thead>\n",
              "    <tr style=\"text-align: right;\">\n",
              "      <th></th>\n",
              "      <th>Média de Consumo</th>\n",
              "      <th>DP de Consumo</th>\n",
              "      <th>Média de Recuperação</th>\n",
              "      <th>DP de Recuperação</th>\n",
              "      <th>Média de Mortalidade</th>\n",
              "      <th>DP de Mortalidade</th>\n",
              "    </tr>\n",
              "  </thead>\n",
              "  <tbody>\n",
              "    <tr>\n",
              "      <th>África</th>\n",
              "      <td>27.990725</td>\n",
              "      <td>2.200833</td>\n",
              "      <td>96.798225</td>\n",
              "      <td>1.726389</td>\n",
              "      <td>3.201775</td>\n",
              "      <td>1.726389</td>\n",
              "    </tr>\n",
              "    <tr>\n",
              "      <th>América do Sul</th>\n",
              "      <td>16.667511</td>\n",
              "      <td>2.929066</td>\n",
              "      <td>96.277256</td>\n",
              "      <td>1.897897</td>\n",
              "      <td>3.722744</td>\n",
              "      <td>1.897897</td>\n",
              "    </tr>\n",
              "    <tr>\n",
              "      <th>Nocivas</th>\n",
              "      <td>13.215814</td>\n",
              "      <td>1.472997</td>\n",
              "      <td>97.667486</td>\n",
              "      <td>1.032016</td>\n",
              "      <td>2.332514</td>\n",
              "      <td>1.032016</td>\n",
              "    </tr>\n",
              "    <tr>\n",
              "      <th>Saudáveis</th>\n",
              "      <td>17.313900</td>\n",
              "      <td>7.014414</td>\n",
              "      <td>98.376271</td>\n",
              "      <td>0.882762</td>\n",
              "      <td>1.623729</td>\n",
              "      <td>0.882762</td>\n",
              "    </tr>\n",
              "    <tr>\n",
              "      <th>Europa</th>\n",
              "      <td>13.944025</td>\n",
              "      <td>1.888021</td>\n",
              "      <td>95.881725</td>\n",
              "      <td>2.274731</td>\n",
              "      <td>4.118275</td>\n",
              "      <td>2.274731</td>\n",
              "    </tr>\n",
              "    <tr>\n",
              "      <th>Mediterrâneo</th>\n",
              "      <td>21.726600</td>\n",
              "      <td>6.289447</td>\n",
              "      <td>97.478875</td>\n",
              "      <td>2.054117</td>\n",
              "      <td>2.521125</td>\n",
              "      <td>2.054117</td>\n",
              "    </tr>\n",
              "    <tr>\n",
              "      <th>Nórdicos</th>\n",
              "      <td>11.749320</td>\n",
              "      <td>1.246282</td>\n",
              "      <td>97.668660</td>\n",
              "      <td>1.716838</td>\n",
              "      <td>2.331340</td>\n",
              "      <td>1.716838</td>\n",
              "    </tr>\n",
              "    <tr>\n",
              "      <th>Nórdicos sem a Suécia</th>\n",
              "      <td>11.620375</td>\n",
              "      <td>1.363227</td>\n",
              "      <td>98.446300</td>\n",
              "      <td>0.812892</td>\n",
              "      <td>1.553700</td>\n",
              "      <td>0.812892</td>\n",
              "    </tr>\n",
              "    <tr>\n",
              "      <th>Obesidade</th>\n",
              "      <td>16.803329</td>\n",
              "      <td>3.462199</td>\n",
              "      <td>97.556971</td>\n",
              "      <td>3.192355</td>\n",
              "      <td>2.443029</td>\n",
              "      <td>3.192355</td>\n",
              "    </tr>\n",
              "  </tbody>\n",
              "</table>\n",
              "</div>"
            ],
            "text/plain": [
              "                       Média de Consumo  ...  DP de Mortalidade\n",
              "África                        27.990725  ...           1.726389\n",
              "América do Sul                16.667511  ...           1.897897\n",
              "Nocivas                       13.215814  ...           1.032016\n",
              "Saudáveis                     17.313900  ...           0.882762\n",
              "Europa                        13.944025  ...           2.274731\n",
              "Mediterrâneo                  21.726600  ...           2.054117\n",
              "Nórdicos                      11.749320  ...           1.716838\n",
              "Nórdicos sem a Suécia         11.620375  ...           0.812892\n",
              "Obesidade                     16.803329  ...           3.192355\n",
              "\n",
              "[9 rows x 6 columns]"
            ]
          },
          "metadata": {},
          "execution_count": 58
        }
      ]
    },
    {
      "cell_type": "code",
      "metadata": {
        "colab": {
          "base_uri": "https://localhost:8080/",
          "height": 331
        },
        "id": "iP4qQJAmMvmd",
        "outputId": "0c2e62b9-fff4-4c80-b607-c967207bdaf0"
      },
      "source": [
        "#DataFrame com o coeficiente r de correlação linear de Pearson para cada grupo de países.\n",
        "df_corr = concat_corr()\n",
        "df_corr"
      ],
      "execution_count": null,
      "outputs": [
        {
          "output_type": "execute_result",
          "data": {
            "text/html": [
              "<div>\n",
              "<style scoped>\n",
              "    .dataframe tbody tr th:only-of-type {\n",
              "        vertical-align: middle;\n",
              "    }\n",
              "\n",
              "    .dataframe tbody tr th {\n",
              "        vertical-align: top;\n",
              "    }\n",
              "\n",
              "    .dataframe thead th {\n",
              "        text-align: right;\n",
              "    }\n",
              "</style>\n",
              "<table border=\"1\" class=\"dataframe\">\n",
              "  <thead>\n",
              "    <tr style=\"text-align: right;\">\n",
              "      <th></th>\n",
              "      <th></th>\n",
              "      <th>Taxa de Recuperação (%)</th>\n",
              "      <th>Taxa de Mortalidade (%)</th>\n",
              "    </tr>\n",
              "  </thead>\n",
              "  <tbody>\n",
              "    <tr>\n",
              "      <th>África Mediterrânea</th>\n",
              "      <th>Consumo de Cereais (%)</th>\n",
              "      <td>-0.463864</td>\n",
              "      <td>0.463864</td>\n",
              "    </tr>\n",
              "    <tr>\n",
              "      <th>América do Sul</th>\n",
              "      <th>Consumo de Cereais (%)</th>\n",
              "      <td>-0.767833</td>\n",
              "      <td>0.767833</td>\n",
              "    </tr>\n",
              "    <tr>\n",
              "      <th>Cozinhas Nocivas</th>\n",
              "      <th>Consumo de Cereais (%)</th>\n",
              "      <td>-0.126569</td>\n",
              "      <td>0.126569</td>\n",
              "    </tr>\n",
              "    <tr>\n",
              "      <th>Cozinhas Saudáveis</th>\n",
              "      <th>Consumo de Cereais (%)</th>\n",
              "      <td>-0.228650</td>\n",
              "      <td>0.228650</td>\n",
              "    </tr>\n",
              "    <tr>\n",
              "      <th>Europa Mediterrânea</th>\n",
              "      <th>Consumo de Cereais (%)</th>\n",
              "      <td>-0.656138</td>\n",
              "      <td>0.656138</td>\n",
              "    </tr>\n",
              "    <tr>\n",
              "      <th>Mediterrâneo Oriental</th>\n",
              "      <th>Consumo de Cereais (%)</th>\n",
              "      <td>-0.800663</td>\n",
              "      <td>0.800663</td>\n",
              "    </tr>\n",
              "    <tr>\n",
              "      <th>Nórdicos</th>\n",
              "      <th>Consumo de Cereais (%)</th>\n",
              "      <td>-0.599654</td>\n",
              "      <td>0.599654</td>\n",
              "    </tr>\n",
              "    <tr>\n",
              "      <th>Nórdicos sem a Suécia</th>\n",
              "      <th>Consumo de Cereais (%)</th>\n",
              "      <td>-0.994857</td>\n",
              "      <td>0.994857</td>\n",
              "    </tr>\n",
              "    <tr>\n",
              "      <th>Obesidade</th>\n",
              "      <th>Consumo de Cereais (%)</th>\n",
              "      <td>-0.173745</td>\n",
              "      <td>0.173745</td>\n",
              "    </tr>\n",
              "  </tbody>\n",
              "</table>\n",
              "</div>"
            ],
            "text/plain": [
              "                                              Taxa de Recuperação (%)  Taxa de Mortalidade (%)\n",
              "África Mediterrânea   Consumo de Cereais (%)                -0.463864                 0.463864\n",
              "América do Sul        Consumo de Cereais (%)                -0.767833                 0.767833\n",
              "Cozinhas Nocivas      Consumo de Cereais (%)                -0.126569                 0.126569\n",
              "Cozinhas Saudáveis    Consumo de Cereais (%)                -0.228650                 0.228650\n",
              "Europa Mediterrânea   Consumo de Cereais (%)                -0.656138                 0.656138\n",
              "Mediterrâneo Oriental Consumo de Cereais (%)                -0.800663                 0.800663\n",
              "Nórdicos              Consumo de Cereais (%)                -0.599654                 0.599654\n",
              "Nórdicos sem a Suécia Consumo de Cereais (%)                -0.994857                 0.994857\n",
              "Obesidade             Consumo de Cereais (%)                -0.173745                 0.173745"
            ]
          },
          "metadata": {},
          "execution_count": 59
        }
      ]
    },
    {
      "cell_type": "code",
      "metadata": {
        "colab": {
          "base_uri": "https://localhost:8080/",
          "height": 331
        },
        "id": "GftXnLw1zE0d",
        "outputId": "63c34b1c-d7c0-4ea1-9f9d-486297238438"
      },
      "source": [
        "#DataFrame com o coeficiente r de correlação linear de Pearson para cada grupo de países e ordenado pela taxa de recuperação (%).\n",
        "df_corr = concat_corr()\n",
        "df_corr.sort_values('Taxa de Recuperação (%)')"
      ],
      "execution_count": null,
      "outputs": [
        {
          "output_type": "execute_result",
          "data": {
            "text/html": [
              "<div>\n",
              "<style scoped>\n",
              "    .dataframe tbody tr th:only-of-type {\n",
              "        vertical-align: middle;\n",
              "    }\n",
              "\n",
              "    .dataframe tbody tr th {\n",
              "        vertical-align: top;\n",
              "    }\n",
              "\n",
              "    .dataframe thead th {\n",
              "        text-align: right;\n",
              "    }\n",
              "</style>\n",
              "<table border=\"1\" class=\"dataframe\">\n",
              "  <thead>\n",
              "    <tr style=\"text-align: right;\">\n",
              "      <th></th>\n",
              "      <th></th>\n",
              "      <th>Taxa de Recuperação (%)</th>\n",
              "      <th>Taxa de Mortalidade (%)</th>\n",
              "    </tr>\n",
              "  </thead>\n",
              "  <tbody>\n",
              "    <tr>\n",
              "      <th>Nórdicos sem a Suécia</th>\n",
              "      <th>Consumo de Cereais (%)</th>\n",
              "      <td>-0.994857</td>\n",
              "      <td>0.994857</td>\n",
              "    </tr>\n",
              "    <tr>\n",
              "      <th>Mediterrâneo Oriental</th>\n",
              "      <th>Consumo de Cereais (%)</th>\n",
              "      <td>-0.800663</td>\n",
              "      <td>0.800663</td>\n",
              "    </tr>\n",
              "    <tr>\n",
              "      <th>América do Sul</th>\n",
              "      <th>Consumo de Cereais (%)</th>\n",
              "      <td>-0.767833</td>\n",
              "      <td>0.767833</td>\n",
              "    </tr>\n",
              "    <tr>\n",
              "      <th>Europa Mediterrânea</th>\n",
              "      <th>Consumo de Cereais (%)</th>\n",
              "      <td>-0.656138</td>\n",
              "      <td>0.656138</td>\n",
              "    </tr>\n",
              "    <tr>\n",
              "      <th>Nórdicos</th>\n",
              "      <th>Consumo de Cereais (%)</th>\n",
              "      <td>-0.599654</td>\n",
              "      <td>0.599654</td>\n",
              "    </tr>\n",
              "    <tr>\n",
              "      <th>África Mediterrânea</th>\n",
              "      <th>Consumo de Cereais (%)</th>\n",
              "      <td>-0.463864</td>\n",
              "      <td>0.463864</td>\n",
              "    </tr>\n",
              "    <tr>\n",
              "      <th>Cozinhas Saudáveis</th>\n",
              "      <th>Consumo de Cereais (%)</th>\n",
              "      <td>-0.228650</td>\n",
              "      <td>0.228650</td>\n",
              "    </tr>\n",
              "    <tr>\n",
              "      <th>Obesidade</th>\n",
              "      <th>Consumo de Cereais (%)</th>\n",
              "      <td>-0.173745</td>\n",
              "      <td>0.173745</td>\n",
              "    </tr>\n",
              "    <tr>\n",
              "      <th>Cozinhas Nocivas</th>\n",
              "      <th>Consumo de Cereais (%)</th>\n",
              "      <td>-0.126569</td>\n",
              "      <td>0.126569</td>\n",
              "    </tr>\n",
              "  </tbody>\n",
              "</table>\n",
              "</div>"
            ],
            "text/plain": [
              "                                              Taxa de Recuperação (%)  Taxa de Mortalidade (%)\n",
              "Nórdicos sem a Suécia Consumo de Cereais (%)                -0.994857                 0.994857\n",
              "Mediterrâneo Oriental Consumo de Cereais (%)                -0.800663                 0.800663\n",
              "América do Sul        Consumo de Cereais (%)                -0.767833                 0.767833\n",
              "Europa Mediterrânea   Consumo de Cereais (%)                -0.656138                 0.656138\n",
              "Nórdicos              Consumo de Cereais (%)                -0.599654                 0.599654\n",
              "África Mediterrânea   Consumo de Cereais (%)                -0.463864                 0.463864\n",
              "Cozinhas Saudáveis    Consumo de Cereais (%)                -0.228650                 0.228650\n",
              "Obesidade             Consumo de Cereais (%)                -0.173745                 0.173745\n",
              "Cozinhas Nocivas      Consumo de Cereais (%)                -0.126569                 0.126569"
            ]
          },
          "metadata": {},
          "execution_count": 60
        }
      ]
    },
    {
      "cell_type": "code",
      "metadata": {
        "colab": {
          "base_uri": "https://localhost:8080/",
          "height": 980
        },
        "id": "6Uq3KQpZWL97",
        "outputId": "6903797c-05cf-4b82-96ff-f92cfb876e2c"
      },
      "source": [
        "#Gráfico de dispersão do coeficiente r de correlação linear de Pearson das taxas de recuperação e de mortalidade em razão do consumo de cereais para cada grupo de países.\n",
        "xdata = list(df_corr.index.get_level_values(0).unique())\n",
        "ydata_recuperacao = df_corr['Taxa de Recuperação (%)'].tolist()\n",
        "ydata_mortalidade = df_corr['Taxa de Mortalidade (%)'].tolist()\n",
        "grafico_dispersao_correlacoes(xdata, ydata_recuperacao, ydata_mortalidade)"
      ],
      "execution_count": null,
      "outputs": [
        {
          "output_type": "stream",
          "name": "stdout",
          "text": [
            "Legenda:\n",
            "a = África Mediterrânea\n",
            "b = América do Sul\n",
            "c = Cozinhas Nocivas\n",
            "d = Cozinhas Saudáveis\n",
            "e = Europa Mediterrânea\n",
            "f = Mediterrâneo Oriental\n",
            "g = Nórdicos\n",
            "g* = Nórdicos sem a Suécia\n",
            "h = Obesidade\n",
            "\n"
          ]
        },
        {
          "output_type": "display_data",
          "data": {
            "image/png": "[encoded data removed]",
            "text/plain": [
              "<Figure size 432x288 with 1 Axes>"
            ]
          },
          "metadata": {
            "needs_background": "light"
          }
        },
        {
          "output_type": "stream",
          "name": "stdout",
          "text": [
            "\n",
            "Legenda:\n",
            "a = África Mediterrânea\n",
            "b = América do Sul\n",
            "c = Cozinhas Nocivas\n",
            "d = Cozinhas Saudáveis\n",
            "e = Europa Mediterrânea\n",
            "f = Mediterrâneo Oriental\n",
            "g = Nórdicos\n",
            "g* = Nórdicos sem a Suécia\n",
            "h = Obesidade\n",
            "\n"
          ]
        },
        {
          "output_type": "display_data",
          "data": {
            "image/png": "[encoded data removed]",
            "text/plain": [
              "<Figure size 432x288 with 1 Axes>"
            ]
          },
          "metadata": {
            "needs_background": "light"
          }
        }
      ]
    },
    {
      "cell_type": "code",
      "metadata": {
        "colab": {
          "base_uri": "https://localhost:8080/",
          "height": 206
        },
        "id": "9HpJikFM25ak",
        "outputId": "b480cb4c-fe5c-476f-ac01-bea9b2eef51b"
      },
      "source": [
        "#DataFrame com o coeficiente r de correlação linear de Pearson para cada grupo de países, ordenado pela taxa de recuperação (%) e com 0,5 ≤ | r | ≤ 1.\n",
        "df_filtro = filtro()\n",
        "df_filtro"
      ],
      "execution_count": null,
      "outputs": [
        {
          "output_type": "execute_result",
          "data": {
            "text/html": [
              "<div>\n",
              "<style scoped>\n",
              "    .dataframe tbody tr th:only-of-type {\n",
              "        vertical-align: middle;\n",
              "    }\n",
              "\n",
              "    .dataframe tbody tr th {\n",
              "        vertical-align: top;\n",
              "    }\n",
              "\n",
              "    .dataframe thead th {\n",
              "        text-align: right;\n",
              "    }\n",
              "</style>\n",
              "<table border=\"1\" class=\"dataframe\">\n",
              "  <thead>\n",
              "    <tr style=\"text-align: right;\">\n",
              "      <th></th>\n",
              "      <th></th>\n",
              "      <th>Taxa de Recuperação (%)</th>\n",
              "      <th>Taxa de Mortalidade (%)</th>\n",
              "    </tr>\n",
              "  </thead>\n",
              "  <tbody>\n",
              "    <tr>\n",
              "      <th>Nórdicos sem a Suécia</th>\n",
              "      <th>Consumo de Cereais (%)</th>\n",
              "      <td>-0.994857</td>\n",
              "      <td>0.994857</td>\n",
              "    </tr>\n",
              "    <tr>\n",
              "      <th>Mediterrâneo Oriental</th>\n",
              "      <th>Consumo de Cereais (%)</th>\n",
              "      <td>-0.800663</td>\n",
              "      <td>0.800663</td>\n",
              "    </tr>\n",
              "    <tr>\n",
              "      <th>América do Sul</th>\n",
              "      <th>Consumo de Cereais (%)</th>\n",
              "      <td>-0.767833</td>\n",
              "      <td>0.767833</td>\n",
              "    </tr>\n",
              "    <tr>\n",
              "      <th>Europa Mediterrânea</th>\n",
              "      <th>Consumo de Cereais (%)</th>\n",
              "      <td>-0.656138</td>\n",
              "      <td>0.656138</td>\n",
              "    </tr>\n",
              "    <tr>\n",
              "      <th>Nórdicos</th>\n",
              "      <th>Consumo de Cereais (%)</th>\n",
              "      <td>-0.599654</td>\n",
              "      <td>0.599654</td>\n",
              "    </tr>\n",
              "  </tbody>\n",
              "</table>\n",
              "</div>"
            ],
            "text/plain": [
              "                                              Taxa de Recuperação (%)  Taxa de Mortalidade (%)\n",
              "Nórdicos sem a Suécia Consumo de Cereais (%)                -0.994857                 0.994857\n",
              "Mediterrâneo Oriental Consumo de Cereais (%)                -0.800663                 0.800663\n",
              "América do Sul        Consumo de Cereais (%)                -0.767833                 0.767833\n",
              "Europa Mediterrânea   Consumo de Cereais (%)                -0.656138                 0.656138\n",
              "Nórdicos              Consumo de Cereais (%)                -0.599654                 0.599654"
            ]
          },
          "metadata": {},
          "execution_count": 62
        }
      ]
    },
    {
      "cell_type": "code",
      "metadata": {
        "colab": {
          "base_uri": "https://localhost:8080/",
          "height": 844
        },
        "id": "5a0jKVlxStuH",
        "outputId": "5639877f-8877-4066-9ae4-c7646e81b189"
      },
      "source": [
        "#Gráfico boxplot dos grupos de países.\n",
        "'''\n",
        "Legenda:\n",
        "a:  África Mediterrânea\n",
        "b:  América do Sul\n",
        "c:  Cozinhas Nocivas\n",
        "d:  Cozinhas Saudáveis\n",
        "e:  Europa Mediterrânea\n",
        "f:  Mediterrâneo Oriental\n",
        "g:  Nórdicos\n",
        "g*: Nórdicos sem a Suécia\n",
        "h:  Obesidade\n",
        "'''\n",
        "\n",
        "grafico_boxplot(df_todos)"
      ],
      "execution_count": null,
      "outputs": [
        {
          "output_type": "display_data",
          "data": {
            "image/png": "[encoded data removed]",
            "text/plain": [
              "<Figure size 432x288 with 1 Axes>"
            ]
          },
          "metadata": {
            "needs_background": "light"
          }
        },
        {
          "output_type": "stream",
          "name": "stdout",
          "text": [
            "\n"
          ]
        },
        {
          "output_type": "display_data",
          "data": {
            "image/png": "[encoded data removed]",
            "text/plain": [
              "<Figure size 432x288 with 1 Axes>"
            ]
          },
          "metadata": {
            "needs_background": "light"
          }
        },
        {
          "output_type": "stream",
          "name": "stdout",
          "text": [
            "\n"
          ]
        },
        {
          "output_type": "display_data",
          "data": {
            "image/png": "[encoded data removed]",
            "text/plain": [
              "<Figure size 432x288 with 1 Axes>"
            ]
          },
          "metadata": {
            "needs_background": "light"
          }
        }
      ]
    },
    {
      "cell_type": "markdown",
      "metadata": {
        "id": "TpfvzG_Tl_wU"
      },
      "source": [
        "# (a) África Mediterrânea"
      ]
    },
    {
      "cell_type": "code",
      "metadata": {
        "colab": {
          "base_uri": "https://localhost:8080/",
          "height": 175
        },
        "id": "Dh4bmhf52OMk",
        "outputId": "2bac3486-3f3d-46b7-f130-c8cb9bd3e026"
      },
      "source": [
        "#DataFrame com o consumo de cereais (%), taxa de recuperação (%) e taxa de mortalidade (%).\n",
        "df_africa.head(4)"
      ],
      "execution_count": null,
      "outputs": [
        {
          "output_type": "execute_result",
          "data": {
            "text/html": [
              "<div>\n",
              "<style scoped>\n",
              "    .dataframe tbody tr th:only-of-type {\n",
              "        vertical-align: middle;\n",
              "    }\n",
              "\n",
              "    .dataframe tbody tr th {\n",
              "        vertical-align: top;\n",
              "    }\n",
              "\n",
              "    .dataframe thead th {\n",
              "        text-align: right;\n",
              "    }\n",
              "</style>\n",
              "<table border=\"1\" class=\"dataframe\">\n",
              "  <thead>\n",
              "    <tr style=\"text-align: right;\">\n",
              "      <th></th>\n",
              "      <th>Consumo de Cereais (%)</th>\n",
              "      <th>Taxa de Recuperação (%)</th>\n",
              "      <th>Taxa de Mortalidade (%)</th>\n",
              "      <th>Unnamed: 3</th>\n",
              "    </tr>\n",
              "  </thead>\n",
              "  <tbody>\n",
              "    <tr>\n",
              "      <th>0</th>\n",
              "      <td>26.5633</td>\n",
              "      <td>96.2955</td>\n",
              "      <td>3.7045</td>\n",
              "      <td>NaN</td>\n",
              "    </tr>\n",
              "    <tr>\n",
              "      <th>1</th>\n",
              "      <td>30.3504</td>\n",
              "      <td>94.1870</td>\n",
              "      <td>5.8130</td>\n",
              "      <td>NaN</td>\n",
              "    </tr>\n",
              "    <tr>\n",
              "      <th>2</th>\n",
              "      <td>29.9052</td>\n",
              "      <td>98.3228</td>\n",
              "      <td>1.6772</td>\n",
              "      <td>NaN</td>\n",
              "    </tr>\n",
              "    <tr>\n",
              "      <th>3</th>\n",
              "      <td>25.1440</td>\n",
              "      <td>98.3876</td>\n",
              "      <td>1.6124</td>\n",
              "      <td>NaN</td>\n",
              "    </tr>\n",
              "  </tbody>\n",
              "</table>\n",
              "</div>"
            ],
            "text/plain": [
              "   Consumo de Cereais (%)  ...  Unnamed: 3\n",
              "0                 26.5633  ...         NaN\n",
              "1                 30.3504  ...         NaN\n",
              "2                 29.9052  ...         NaN\n",
              "3                 25.1440  ...         NaN\n",
              "\n",
              "[4 rows x 4 columns]"
            ]
          },
          "metadata": {},
          "execution_count": 100
        }
      ]
    },
    {
      "cell_type": "code",
      "metadata": {
        "colab": {
          "base_uri": "https://localhost:8080/",
          "height": 81
        },
        "id": "yY18ZjAAIi7k",
        "outputId": "bffb70b4-003f-41f5-9745-90d69c0b39eb"
      },
      "source": [
        "#DataFrame com a média e o desvio padrão do consumo de cereais (%), da taxa de recuperação (%) e da taxa de mortalidade (%).\n",
        "df = pd.DataFrame({'Média de Consumo'     : [df_africa['Consumo de Cereais (%)'].mean()],\n",
        "                   'DP Consumo'           : [df_africa['Consumo de Cereais (%)'].std(ddof=0)],\n",
        "                   'Média de Recuperação' : [df_africa['Taxa de Recuperação (%)'].mean()],\n",
        "                   'DP Recuperação'       : [df_africa['Taxa de Recuperação (%)'].std(ddof=0)],\n",
        "                   'Média de Mortalidade' : [df_africa['Taxa de Mortalidade (%)'].mean()],\n",
        "                   'DP Mortalidade'       : [df_africa['Taxa de Mortalidade (%)'].std(ddof=0)]})\n",
        "df"
      ],
      "execution_count": null,
      "outputs": [
        {
          "output_type": "execute_result",
          "data": {
            "text/html": [
              "<div>\n",
              "<style scoped>\n",
              "    .dataframe tbody tr th:only-of-type {\n",
              "        vertical-align: middle;\n",
              "    }\n",
              "\n",
              "    .dataframe tbody tr th {\n",
              "        vertical-align: top;\n",
              "    }\n",
              "\n",
              "    .dataframe thead th {\n",
              "        text-align: right;\n",
              "    }\n",
              "</style>\n",
              "<table border=\"1\" class=\"dataframe\">\n",
              "  <thead>\n",
              "    <tr style=\"text-align: right;\">\n",
              "      <th></th>\n",
              "      <th>Média de Consumo</th>\n",
              "      <th>DP Consumo</th>\n",
              "      <th>Média de Recuperação</th>\n",
              "      <th>DP Recuperação</th>\n",
              "      <th>Média de Mortalidade</th>\n",
              "      <th>DP Mortalidade</th>\n",
              "    </tr>\n",
              "  </thead>\n",
              "  <tbody>\n",
              "    <tr>\n",
              "      <th>0</th>\n",
              "      <td>27.990725</td>\n",
              "      <td>2.200833</td>\n",
              "      <td>96.798225</td>\n",
              "      <td>1.726389</td>\n",
              "      <td>3.201775</td>\n",
              "      <td>1.726389</td>\n",
              "    </tr>\n",
              "  </tbody>\n",
              "</table>\n",
              "</div>"
            ],
            "text/plain": [
              "   Média de Consumo  DP Consumo  ...  Média de Mortalidade  DP Mortalidade\n",
              "0         27.990725    2.200833  ...              3.201775        1.726389\n",
              "\n",
              "[1 rows x 6 columns]"
            ]
          },
          "metadata": {},
          "execution_count": 65
        }
      ]
    },
    {
      "cell_type": "code",
      "metadata": {
        "colab": {
          "base_uri": "https://localhost:8080/",
          "height": 143
        },
        "id": "KHtfeWOmsq5z",
        "outputId": "a91a9405-b2e4-4db6-fc49-1273dd1a9e51"
      },
      "source": [
        "#DataFrame com o coeficiente r de correlação linear de Pearson.\n",
        "df_africa.corr()"
      ],
      "execution_count": null,
      "outputs": [
        {
          "output_type": "execute_result",
          "data": {
            "text/html": [
              "<div>\n",
              "<style scoped>\n",
              "    .dataframe tbody tr th:only-of-type {\n",
              "        vertical-align: middle;\n",
              "    }\n",
              "\n",
              "    .dataframe tbody tr th {\n",
              "        vertical-align: top;\n",
              "    }\n",
              "\n",
              "    .dataframe thead th {\n",
              "        text-align: right;\n",
              "    }\n",
              "</style>\n",
              "<table border=\"1\" class=\"dataframe\">\n",
              "  <thead>\n",
              "    <tr style=\"text-align: right;\">\n",
              "      <th></th>\n",
              "      <th>Consumo de Cereais (%)</th>\n",
              "      <th>Taxa de Recuperação (%)</th>\n",
              "      <th>Taxa de Mortalidade (%)</th>\n",
              "    </tr>\n",
              "  </thead>\n",
              "  <tbody>\n",
              "    <tr>\n",
              "      <th>Consumo de Cereais (%)</th>\n",
              "      <td>1.000000</td>\n",
              "      <td>-0.463864</td>\n",
              "      <td>0.463864</td>\n",
              "    </tr>\n",
              "    <tr>\n",
              "      <th>Taxa de Recuperação (%)</th>\n",
              "      <td>-0.463864</td>\n",
              "      <td>1.000000</td>\n",
              "      <td>-1.000000</td>\n",
              "    </tr>\n",
              "    <tr>\n",
              "      <th>Taxa de Mortalidade (%)</th>\n",
              "      <td>0.463864</td>\n",
              "      <td>-1.000000</td>\n",
              "      <td>1.000000</td>\n",
              "    </tr>\n",
              "  </tbody>\n",
              "</table>\n",
              "</div>"
            ],
            "text/plain": [
              "                         Consumo de Cereais (%)  ...  Taxa de Mortalidade (%)\n",
              "Consumo de Cereais (%)                 1.000000  ...                 0.463864\n",
              "Taxa de Recuperação (%)               -0.463864  ...                -1.000000\n",
              "Taxa de Mortalidade (%)                0.463864  ...                 1.000000\n",
              "\n",
              "[3 rows x 3 columns]"
            ]
          },
          "metadata": {},
          "execution_count": 66
        }
      ]
    },
    {
      "cell_type": "code",
      "metadata": {
        "colab": {
          "base_uri": "https://localhost:8080/",
          "height": 854
        },
        "id": "dwnJ_0QCh2A0",
        "outputId": "e91f518f-ad93-4d1f-cdae-2d9d10879c5c"
      },
      "source": [
        "#Gráficos de regressão linear.\n",
        "apresentar(df_africa)"
      ],
      "execution_count": null,
      "outputs": [
        {
          "output_type": "stream",
          "name": "stdout",
          "text": [
            "Coeficiente r de correlação linear de Pearson:\n",
            "\n",
            "Consumo x Recuperação:  (-0.46386403024684025, 0.5361359697531598)\n",
            "r = -0.4638640302468402\n",
            "\n",
            "Consumo x Mortalidade:  (0.46386403024683903, 0.5361359697531609)\n",
            "r = 0.46386403024683903\n",
            "\n",
            "\n",
            "Equação: y = 106.98 + -0.36387X\n",
            "\n",
            "\n"
          ]
        },
        {
          "output_type": "display_data",
          "data": {
            "image/png": "[encoded data removed]",
            "text/plain": [
              "<Figure size 432x288 with 1 Axes>"
            ]
          },
          "metadata": {
            "needs_background": "light"
          }
        },
        {
          "output_type": "stream",
          "name": "stdout",
          "text": [
            "\n",
            "\n",
            "Equação: y = -6.9831 + 0.36387X\n",
            "\n",
            "\n"
          ]
        },
        {
          "output_type": "display_data",
          "data": {
            "image/png": "[encoded data removed]",
            "text/plain": [
              "<Figure size 432x288 with 1 Axes>"
            ]
          },
          "metadata": {
            "needs_background": "light"
          }
        }
      ]
    },
    {
      "cell_type": "markdown",
      "metadata": {
        "id": "RsMGHJnamMKG"
      },
      "source": [
        "# (b) América do Sul"
      ]
    },
    {
      "cell_type": "code",
      "metadata": {
        "colab": {
          "base_uri": "https://localhost:8080/",
          "height": 331
        },
        "id": "tcopel_h4nM2",
        "outputId": "b9f8e83f-fbf2-4395-a7f6-21978d53bc7c"
      },
      "source": [
        "#DataFrame com o consumo de cereais (%), taxa de recuperação (%) e taxa de mortalidade (%).\n",
        "df_america_sul.head(9)"
      ],
      "execution_count": null,
      "outputs": [
        {
          "output_type": "execute_result",
          "data": {
            "text/html": [
              "<div>\n",
              "<style scoped>\n",
              "    .dataframe tbody tr th:only-of-type {\n",
              "        vertical-align: middle;\n",
              "    }\n",
              "\n",
              "    .dataframe tbody tr th {\n",
              "        vertical-align: top;\n",
              "    }\n",
              "\n",
              "    .dataframe thead th {\n",
              "        text-align: right;\n",
              "    }\n",
              "</style>\n",
              "<table border=\"1\" class=\"dataframe\">\n",
              "  <thead>\n",
              "    <tr style=\"text-align: right;\">\n",
              "      <th></th>\n",
              "      <th>Consumo de Cereais (%)</th>\n",
              "      <th>Taxa de Recuperação (%)</th>\n",
              "      <th>Taxa de Mortalidade (%)</th>\n",
              "    </tr>\n",
              "  </thead>\n",
              "  <tbody>\n",
              "    <tr>\n",
              "      <th>0</th>\n",
              "      <td>13.6702</td>\n",
              "      <td>97.3472</td>\n",
              "      <td>2.6528</td>\n",
              "    </tr>\n",
              "    <tr>\n",
              "      <th>1</th>\n",
              "      <td>18.0364</td>\n",
              "      <td>93.8971</td>\n",
              "      <td>6.1029</td>\n",
              "    </tr>\n",
              "    <tr>\n",
              "      <th>2</th>\n",
              "      <td>12.1671</td>\n",
              "      <td>97.0765</td>\n",
              "      <td>2.9235</td>\n",
              "    </tr>\n",
              "    <tr>\n",
              "      <th>3</th>\n",
              "      <td>17.7775</td>\n",
              "      <td>97.2257</td>\n",
              "      <td>2.7743</td>\n",
              "    </tr>\n",
              "    <tr>\n",
              "      <th>4</th>\n",
              "      <td>15.0380</td>\n",
              "      <td>96.9987</td>\n",
              "      <td>3.0013</td>\n",
              "    </tr>\n",
              "    <tr>\n",
              "      <th>5</th>\n",
              "      <td>22.6665</td>\n",
              "      <td>92.0103</td>\n",
              "      <td>7.9897</td>\n",
              "    </tr>\n",
              "    <tr>\n",
              "      <th>6</th>\n",
              "      <td>15.4044</td>\n",
              "      <td>97.8001</td>\n",
              "      <td>2.1999</td>\n",
              "    </tr>\n",
              "    <tr>\n",
              "      <th>7</th>\n",
              "      <td>18.8078</td>\n",
              "      <td>96.1299</td>\n",
              "      <td>3.8701</td>\n",
              "    </tr>\n",
              "    <tr>\n",
              "      <th>8</th>\n",
              "      <td>16.4397</td>\n",
              "      <td>98.0098</td>\n",
              "      <td>1.9902</td>\n",
              "    </tr>\n",
              "  </tbody>\n",
              "</table>\n",
              "</div>"
            ],
            "text/plain": [
              "   Consumo de Cereais (%)  Taxa de Recuperação (%)  Taxa de Mortalidade (%)\n",
              "0                 13.6702                  97.3472                   2.6528\n",
              "1                 18.0364                  93.8971                   6.1029\n",
              "2                 12.1671                  97.0765                   2.9235\n",
              "3                 17.7775                  97.2257                   2.7743\n",
              "4                 15.0380                  96.9987                   3.0013\n",
              "5                 22.6665                  92.0103                   7.9897\n",
              "6                 15.4044                  97.8001                   2.1999\n",
              "7                 18.8078                  96.1299                   3.8701\n",
              "8                 16.4397                  98.0098                   1.9902"
            ]
          },
          "metadata": {},
          "execution_count": 68
        }
      ]
    },
    {
      "cell_type": "code",
      "metadata": {
        "colab": {
          "base_uri": "https://localhost:8080/",
          "height": 81
        },
        "id": "YLGqQkBqkbqn",
        "outputId": "29cddca5-194d-4bac-b9df-4a80b4680286"
      },
      "source": [
        "#DataFrame com a média e o desvio padrão do consumo de cereais (%), da taxa de recuperação (%) e da taxa de mortalidade (%).\n",
        "df = pd.DataFrame({'Média de Consumo'     : [df_america_sul['Consumo de Cereais (%)'].mean()],\n",
        "                   'DP Consumo'           : [df_america_sul['Consumo de Cereais (%)'].std(ddof=0)],\n",
        "                   'Média de Recuperação' : [df_america_sul['Taxa de Recuperação (%)'].mean()],\n",
        "                   'DP Recuperação'       : [df_america_sul['Taxa de Recuperação (%)'].std(ddof=0)],\n",
        "                   'Média de Mortalidade' : [df_america_sul['Taxa de Mortalidade (%)'].mean()],\n",
        "                   'DP Mortalidade'       : [df_america_sul['Taxa de Mortalidade (%)'].std(ddof=0)]})\n",
        "df"
      ],
      "execution_count": null,
      "outputs": [
        {
          "output_type": "execute_result",
          "data": {
            "text/html": [
              "<div>\n",
              "<style scoped>\n",
              "    .dataframe tbody tr th:only-of-type {\n",
              "        vertical-align: middle;\n",
              "    }\n",
              "\n",
              "    .dataframe tbody tr th {\n",
              "        vertical-align: top;\n",
              "    }\n",
              "\n",
              "    .dataframe thead th {\n",
              "        text-align: right;\n",
              "    }\n",
              "</style>\n",
              "<table border=\"1\" class=\"dataframe\">\n",
              "  <thead>\n",
              "    <tr style=\"text-align: right;\">\n",
              "      <th></th>\n",
              "      <th>Média de Consumo</th>\n",
              "      <th>DP Consumo</th>\n",
              "      <th>Média de Recuperação</th>\n",
              "      <th>DP Recuperação</th>\n",
              "      <th>Média de Mortalidade</th>\n",
              "      <th>DP Mortalidade</th>\n",
              "    </tr>\n",
              "  </thead>\n",
              "  <tbody>\n",
              "    <tr>\n",
              "      <th>0</th>\n",
              "      <td>16.667511</td>\n",
              "      <td>2.929066</td>\n",
              "      <td>96.277256</td>\n",
              "      <td>1.897897</td>\n",
              "      <td>3.722744</td>\n",
              "      <td>1.897897</td>\n",
              "    </tr>\n",
              "  </tbody>\n",
              "</table>\n",
              "</div>"
            ],
            "text/plain": [
              "   Média de Consumo  DP Consumo  ...  Média de Mortalidade  DP Mortalidade\n",
              "0         16.667511    2.929066  ...              3.722744        1.897897\n",
              "\n",
              "[1 rows x 6 columns]"
            ]
          },
          "metadata": {},
          "execution_count": 69
        }
      ]
    },
    {
      "cell_type": "code",
      "metadata": {
        "colab": {
          "base_uri": "https://localhost:8080/",
          "height": 143
        },
        "id": "1CmHPzUSszXM",
        "outputId": "4d896831-2118-439e-c4b2-9cd3e529885a"
      },
      "source": [
        "#DataFrame com o coeficiente r de correlação linear de Pearson.\n",
        "df_america_sul.corr()"
      ],
      "execution_count": null,
      "outputs": [
        {
          "output_type": "execute_result",
          "data": {
            "text/html": [
              "<div>\n",
              "<style scoped>\n",
              "    .dataframe tbody tr th:only-of-type {\n",
              "        vertical-align: middle;\n",
              "    }\n",
              "\n",
              "    .dataframe tbody tr th {\n",
              "        vertical-align: top;\n",
              "    }\n",
              "\n",
              "    .dataframe thead th {\n",
              "        text-align: right;\n",
              "    }\n",
              "</style>\n",
              "<table border=\"1\" class=\"dataframe\">\n",
              "  <thead>\n",
              "    <tr style=\"text-align: right;\">\n",
              "      <th></th>\n",
              "      <th>Consumo de Cereais (%)</th>\n",
              "      <th>Taxa de Recuperação (%)</th>\n",
              "      <th>Taxa de Mortalidade (%)</th>\n",
              "    </tr>\n",
              "  </thead>\n",
              "  <tbody>\n",
              "    <tr>\n",
              "      <th>Consumo de Cereais (%)</th>\n",
              "      <td>1.000000</td>\n",
              "      <td>-0.767833</td>\n",
              "      <td>0.767833</td>\n",
              "    </tr>\n",
              "    <tr>\n",
              "      <th>Taxa de Recuperação (%)</th>\n",
              "      <td>-0.767833</td>\n",
              "      <td>1.000000</td>\n",
              "      <td>-1.000000</td>\n",
              "    </tr>\n",
              "    <tr>\n",
              "      <th>Taxa de Mortalidade (%)</th>\n",
              "      <td>0.767833</td>\n",
              "      <td>-1.000000</td>\n",
              "      <td>1.000000</td>\n",
              "    </tr>\n",
              "  </tbody>\n",
              "</table>\n",
              "</div>"
            ],
            "text/plain": [
              "                         Consumo de Cereais (%)  ...  Taxa de Mortalidade (%)\n",
              "Consumo de Cereais (%)                 1.000000  ...                 0.767833\n",
              "Taxa de Recuperação (%)               -0.767833  ...                -1.000000\n",
              "Taxa de Mortalidade (%)                0.767833  ...                 1.000000\n",
              "\n",
              "[3 rows x 3 columns]"
            ]
          },
          "metadata": {},
          "execution_count": 70
        }
      ]
    },
    {
      "cell_type": "code",
      "metadata": {
        "colab": {
          "base_uri": "https://localhost:8080/",
          "height": 854
        },
        "id": "siTBx4tsk2-1",
        "outputId": "f41da4f2-63f8-4d56-c43d-a499a999cc6e"
      },
      "source": [
        "#Gráficos de regressão linear.\n",
        "apresentar(df_america_sul)"
      ],
      "execution_count": null,
      "outputs": [
        {
          "output_type": "stream",
          "name": "stdout",
          "text": [
            "Coeficiente r de correlação linear de Pearson:\n",
            "\n",
            "Consumo x Recuperação:  (-0.767832826765565, 0.015686230482670316)\n",
            "r = -0.7678328267655647\n",
            "\n",
            "Consumo x Mortalidade:  (0.7678328267655656, 0.01568623048267017)\n",
            "r = 0.7678328267655656\n",
            "\n",
            "\n",
            "Equação: y = 104.57 + -0.49752X\n",
            "\n",
            "\n"
          ]
        },
        {
          "output_type": "display_data",
          "data": {
            "image/png": "[encoded data removed]",
            "text/plain": [
              "<Figure size 432x288 with 1 Axes>"
            ]
          },
          "metadata": {
            "needs_background": "light"
          }
        },
        {
          "output_type": "stream",
          "name": "stdout",
          "text": [
            "\n",
            "\n",
            "Equação: y = -4.5697 + 0.49752X\n",
            "\n",
            "\n"
          ]
        },
        {
          "output_type": "display_data",
          "data": {
            "image/png": "[encoded data removed]",
            "text/plain": [
              "<Figure size 432x288 with 1 Axes>"
            ]
          },
          "metadata": {
            "needs_background": "light"
          }
        }
      ]
    },
    {
      "cell_type": "markdown",
      "metadata": {
        "id": "x_IPI1dgmXOy"
      },
      "source": [
        "# (c) Cozinhas Nocivas"
      ]
    },
    {
      "cell_type": "code",
      "metadata": {
        "colab": {
          "base_uri": "https://localhost:8080/",
          "height": 269
        },
        "id": "J9OE0oRX47T1",
        "outputId": "1e501020-adc7-44a2-859b-92ecf58e924a"
      },
      "source": [
        "#DataFrame com o consumo de cereais (%), taxa de recuperação (%) e taxa de mortalidade (%).\n",
        "df_coz_nocivas.head(7)"
      ],
      "execution_count": null,
      "outputs": [
        {
          "output_type": "execute_result",
          "data": {
            "text/html": [
              "<div>\n",
              "<style scoped>\n",
              "    .dataframe tbody tr th:only-of-type {\n",
              "        vertical-align: middle;\n",
              "    }\n",
              "\n",
              "    .dataframe tbody tr th {\n",
              "        vertical-align: top;\n",
              "    }\n",
              "\n",
              "    .dataframe thead th {\n",
              "        text-align: right;\n",
              "    }\n",
              "</style>\n",
              "<table border=\"1\" class=\"dataframe\">\n",
              "  <thead>\n",
              "    <tr style=\"text-align: right;\">\n",
              "      <th></th>\n",
              "      <th>Consumo de Cereais (%)</th>\n",
              "      <th>Taxa de Recuperação (%)</th>\n",
              "      <th>Taxa de Mortalidade (%)</th>\n",
              "    </tr>\n",
              "  </thead>\n",
              "  <tbody>\n",
              "    <tr>\n",
              "      <th>0</th>\n",
              "      <td>12.9162</td>\n",
              "      <td>97.5131</td>\n",
              "      <td>2.4869</td>\n",
              "    </tr>\n",
              "    <tr>\n",
              "      <th>1</th>\n",
              "      <td>13.6702</td>\n",
              "      <td>97.3472</td>\n",
              "      <td>2.6528</td>\n",
              "    </tr>\n",
              "    <tr>\n",
              "      <th>2</th>\n",
              "      <td>13.7687</td>\n",
              "      <td>95.8408</td>\n",
              "      <td>4.1592</td>\n",
              "    </tr>\n",
              "    <tr>\n",
              "      <th>3</th>\n",
              "      <td>13.7248</td>\n",
              "      <td>98.9545</td>\n",
              "      <td>1.0455</td>\n",
              "    </tr>\n",
              "    <tr>\n",
              "      <th>4</th>\n",
              "      <td>10.4594</td>\n",
              "      <td>97.3608</td>\n",
              "      <td>2.6392</td>\n",
              "    </tr>\n",
              "    <tr>\n",
              "      <th>5</th>\n",
              "      <td>15.6506</td>\n",
              "      <td>97.5006</td>\n",
              "      <td>2.4994</td>\n",
              "    </tr>\n",
              "    <tr>\n",
              "      <th>6</th>\n",
              "      <td>12.3208</td>\n",
              "      <td>99.1554</td>\n",
              "      <td>0.8446</td>\n",
              "    </tr>\n",
              "  </tbody>\n",
              "</table>\n",
              "</div>"
            ],
            "text/plain": [
              "   Consumo de Cereais (%)  Taxa de Recuperação (%)  Taxa de Mortalidade (%)\n",
              "0                 12.9162                  97.5131                   2.4869\n",
              "1                 13.6702                  97.3472                   2.6528\n",
              "2                 13.7687                  95.8408                   4.1592\n",
              "3                 13.7248                  98.9545                   1.0455\n",
              "4                 10.4594                  97.3608                   2.6392\n",
              "5                 15.6506                  97.5006                   2.4994\n",
              "6                 12.3208                  99.1554                   0.8446"
            ]
          },
          "metadata": {},
          "execution_count": 72
        }
      ]
    },
    {
      "cell_type": "code",
      "metadata": {
        "colab": {
          "base_uri": "https://localhost:8080/",
          "height": 81
        },
        "id": "R-ouClBnDrrn",
        "outputId": "3f753c6e-34d5-4d06-eb28-b65a73d277e9"
      },
      "source": [
        "#DataFrame com a média e o desvio padrão do consumo de cereais (%), da taxa de recuperação (%) e da taxa de mortalidade (%).\n",
        "df = pd.DataFrame({'Média de Consumo'     : [df_coz_nocivas['Consumo de Cereais (%)'].mean()],\n",
        "                   'DP Consumo'           : [df_coz_nocivas['Consumo de Cereais (%)'].std(ddof=0)],\n",
        "                   'Média de Recuperação' : [df_coz_nocivas['Taxa de Recuperação (%)'].mean()],\n",
        "                   'DP Recuperação'       : [df_coz_nocivas['Taxa de Recuperação (%)'].std(ddof=0)],\n",
        "                   'Média de Mortalidade' : [df_coz_nocivas['Taxa de Mortalidade (%)'].mean()],\n",
        "                   'DP Mortalidade'       : [df_coz_nocivas['Taxa de Mortalidade (%)'].std(ddof=0)]})\n",
        "df"
      ],
      "execution_count": null,
      "outputs": [
        {
          "output_type": "execute_result",
          "data": {
            "text/html": [
              "<div>\n",
              "<style scoped>\n",
              "    .dataframe tbody tr th:only-of-type {\n",
              "        vertical-align: middle;\n",
              "    }\n",
              "\n",
              "    .dataframe tbody tr th {\n",
              "        vertical-align: top;\n",
              "    }\n",
              "\n",
              "    .dataframe thead th {\n",
              "        text-align: right;\n",
              "    }\n",
              "</style>\n",
              "<table border=\"1\" class=\"dataframe\">\n",
              "  <thead>\n",
              "    <tr style=\"text-align: right;\">\n",
              "      <th></th>\n",
              "      <th>Média de Consumo</th>\n",
              "      <th>DP Consumo</th>\n",
              "      <th>Média de Recuperação</th>\n",
              "      <th>DP Recuperação</th>\n",
              "      <th>Média de Mortalidade</th>\n",
              "      <th>DP Mortalidade</th>\n",
              "    </tr>\n",
              "  </thead>\n",
              "  <tbody>\n",
              "    <tr>\n",
              "      <th>0</th>\n",
              "      <td>13.215814</td>\n",
              "      <td>1.472997</td>\n",
              "      <td>97.667486</td>\n",
              "      <td>1.032016</td>\n",
              "      <td>2.332514</td>\n",
              "      <td>1.032016</td>\n",
              "    </tr>\n",
              "  </tbody>\n",
              "</table>\n",
              "</div>"
            ],
            "text/plain": [
              "   Média de Consumo  DP Consumo  ...  Média de Mortalidade  DP Mortalidade\n",
              "0         13.215814    1.472997  ...              2.332514        1.032016\n",
              "\n",
              "[1 rows x 6 columns]"
            ]
          },
          "metadata": {},
          "execution_count": 73
        }
      ]
    },
    {
      "cell_type": "code",
      "metadata": {
        "colab": {
          "base_uri": "https://localhost:8080/",
          "height": 143
        },
        "id": "d3PitJcks7yW",
        "outputId": "599b008c-b828-446b-f819-f077d1cfa1cf"
      },
      "source": [
        "#DataFrame com o coeficiente r de correlação linear de Pearson.\n",
        "df_coz_nocivas.corr()"
      ],
      "execution_count": null,
      "outputs": [
        {
          "output_type": "execute_result",
          "data": {
            "text/html": [
              "<div>\n",
              "<style scoped>\n",
              "    .dataframe tbody tr th:only-of-type {\n",
              "        vertical-align: middle;\n",
              "    }\n",
              "\n",
              "    .dataframe tbody tr th {\n",
              "        vertical-align: top;\n",
              "    }\n",
              "\n",
              "    .dataframe thead th {\n",
              "        text-align: right;\n",
              "    }\n",
              "</style>\n",
              "<table border=\"1\" class=\"dataframe\">\n",
              "  <thead>\n",
              "    <tr style=\"text-align: right;\">\n",
              "      <th></th>\n",
              "      <th>Consumo de Cereais (%)</th>\n",
              "      <th>Taxa de Recuperação (%)</th>\n",
              "      <th>Taxa de Mortalidade (%)</th>\n",
              "    </tr>\n",
              "  </thead>\n",
              "  <tbody>\n",
              "    <tr>\n",
              "      <th>Consumo de Cereais (%)</th>\n",
              "      <td>1.000000</td>\n",
              "      <td>-0.126569</td>\n",
              "      <td>0.126569</td>\n",
              "    </tr>\n",
              "    <tr>\n",
              "      <th>Taxa de Recuperação (%)</th>\n",
              "      <td>-0.126569</td>\n",
              "      <td>1.000000</td>\n",
              "      <td>-1.000000</td>\n",
              "    </tr>\n",
              "    <tr>\n",
              "      <th>Taxa de Mortalidade (%)</th>\n",
              "      <td>0.126569</td>\n",
              "      <td>-1.000000</td>\n",
              "      <td>1.000000</td>\n",
              "    </tr>\n",
              "  </tbody>\n",
              "</table>\n",
              "</div>"
            ],
            "text/plain": [
              "                         Consumo de Cereais (%)  ...  Taxa de Mortalidade (%)\n",
              "Consumo de Cereais (%)                 1.000000  ...                 0.126569\n",
              "Taxa de Recuperação (%)               -0.126569  ...                -1.000000\n",
              "Taxa de Mortalidade (%)                0.126569  ...                 1.000000\n",
              "\n",
              "[3 rows x 3 columns]"
            ]
          },
          "metadata": {},
          "execution_count": 74
        }
      ]
    },
    {
      "cell_type": "code",
      "metadata": {
        "colab": {
          "base_uri": "https://localhost:8080/",
          "height": 854
        },
        "id": "HWYW4GoFEBAN",
        "outputId": "10846feb-64cf-4bc0-d995-5bd6dbb84de0"
      },
      "source": [
        "#Gráficos de regressão linear.\n",
        "apresentar(df_coz_nocivas)"
      ],
      "execution_count": null,
      "outputs": [
        {
          "output_type": "stream",
          "name": "stdout",
          "text": [
            "Coeficiente r de correlação linear de Pearson:\n",
            "\n",
            "Consumo x Recuperação:  (-0.12656933741307652, 0.7868461687768955)\n",
            "r = -0.1265693374130765\n",
            "\n",
            "Consumo x Mortalidade:  (0.12656933741307835, 0.7868461687768927)\n",
            "r = 0.12656933741307835\n",
            "\n",
            "\n",
            "Equação: y = 98.839 + -0.088677X\n",
            "\n",
            "\n"
          ]
        },
        {
          "output_type": "display_data",
          "data": {
            "image/png": "[encoded data removed]",
            "text/plain": [
              "<Figure size 432x288 with 1 Axes>"
            ]
          },
          "metadata": {
            "needs_background": "light"
          }
        },
        {
          "output_type": "stream",
          "name": "stdout",
          "text": [
            "\n",
            "\n",
            "Equação: y = 1.1606 + 0.088677X\n",
            "\n",
            "\n"
          ]
        },
        {
          "output_type": "display_data",
          "data": {
            "image/png": "[encoded data removed]",
            "text/plain": [
              "<Figure size 432x288 with 1 Axes>"
            ]
          },
          "metadata": {
            "needs_background": "light"
          }
        }
      ]
    },
    {
      "cell_type": "markdown",
      "metadata": {
        "id": "OK6Qo7T5mnup"
      },
      "source": [
        "# (d) Cozinhas Saudáveis"
      ]
    },
    {
      "cell_type": "code",
      "metadata": {
        "id": "ykac7-DT5Arl",
        "colab": {
          "base_uri": "https://localhost:8080/",
          "height": 269
        },
        "outputId": "44c4e995-6228-4a5c-c8c4-a207cc0ec0a5"
      },
      "source": [
        "#DataFrame com o consumo de cereais (%), taxa de recuperação (%) e taxa de mortalidade (%).\n",
        "df_coz_saudaveis.head(7)"
      ],
      "execution_count": null,
      "outputs": [
        {
          "output_type": "execute_result",
          "data": {
            "text/html": [
              "<div>\n",
              "<style scoped>\n",
              "    .dataframe tbody tr th:only-of-type {\n",
              "        vertical-align: middle;\n",
              "    }\n",
              "\n",
              "    .dataframe tbody tr th {\n",
              "        vertical-align: top;\n",
              "    }\n",
              "\n",
              "    .dataframe thead th {\n",
              "        text-align: right;\n",
              "    }\n",
              "</style>\n",
              "<table border=\"1\" class=\"dataframe\">\n",
              "  <thead>\n",
              "    <tr style=\"text-align: right;\">\n",
              "      <th></th>\n",
              "      <th>Consumo de Cereais (%)</th>\n",
              "      <th>Taxa de Recuperação (%)</th>\n",
              "      <th>Taxa de Mortalidade (%)</th>\n",
              "    </tr>\n",
              "  </thead>\n",
              "  <tbody>\n",
              "    <tr>\n",
              "      <th>0</th>\n",
              "      <td>29.7303</td>\n",
              "      <td>98.4776</td>\n",
              "      <td>1.5224</td>\n",
              "    </tr>\n",
              "    <tr>\n",
              "      <th>1</th>\n",
              "      <td>13.0758</td>\n",
              "      <td>97.5097</td>\n",
              "      <td>2.4903</td>\n",
              "    </tr>\n",
              "    <tr>\n",
              "      <th>2</th>\n",
              "      <td>25.2794</td>\n",
              "      <td>98.4879</td>\n",
              "      <td>1.5121</td>\n",
              "    </tr>\n",
              "    <tr>\n",
              "      <th>3</th>\n",
              "      <td>9.3826</td>\n",
              "      <td>99.7423</td>\n",
              "      <td>0.2577</td>\n",
              "    </tr>\n",
              "    <tr>\n",
              "      <th>4</th>\n",
              "      <td>12.7832</td>\n",
              "      <td>99.2477</td>\n",
              "      <td>0.7523</td>\n",
              "    </tr>\n",
              "    <tr>\n",
              "      <th>5</th>\n",
              "      <td>12.4213</td>\n",
              "      <td>98.2174</td>\n",
              "      <td>1.7826</td>\n",
              "    </tr>\n",
              "    <tr>\n",
              "      <th>6</th>\n",
              "      <td>18.5247</td>\n",
              "      <td>96.9513</td>\n",
              "      <td>3.0487</td>\n",
              "    </tr>\n",
              "  </tbody>\n",
              "</table>\n",
              "</div>"
            ],
            "text/plain": [
              "   Consumo de Cereais (%)  Taxa de Recuperação (%)  Taxa de Mortalidade (%)\n",
              "0                 29.7303                  98.4776                   1.5224\n",
              "1                 13.0758                  97.5097                   2.4903\n",
              "2                 25.2794                  98.4879                   1.5121\n",
              "3                  9.3826                  99.7423                   0.2577\n",
              "4                 12.7832                  99.2477                   0.7523\n",
              "5                 12.4213                  98.2174                   1.7826\n",
              "6                 18.5247                  96.9513                   3.0487"
            ]
          },
          "metadata": {},
          "execution_count": 76
        }
      ]
    },
    {
      "cell_type": "code",
      "metadata": {
        "colab": {
          "base_uri": "https://localhost:8080/",
          "height": 81
        },
        "id": "JXS5pjR6EbxK",
        "outputId": "ff5d4b11-7514-4a03-d593-330a7b91e4b8"
      },
      "source": [
        "#DataFrame com a média e o desvio padrão do consumo de cereais (%), da taxa de recuperação (%) e da taxa de mortalidade (%).\n",
        "df = pd.DataFrame({'Média de Consumo'     : [df_coz_saudaveis['Consumo de Cereais (%)'].mean()],\n",
        "                   'DP Consumo'           : [df_coz_saudaveis['Consumo de Cereais (%)'].std(ddof=0)],\n",
        "                   'Média de Recuperação' : [df_coz_saudaveis['Taxa de Recuperação (%)'].mean()],\n",
        "                   'DP Recuperação'       : [df_coz_saudaveis['Taxa de Recuperação (%)'].std(ddof=0)],\n",
        "                   'Média de Mortalidade' : [df_coz_saudaveis['Taxa de Mortalidade (%)'].mean()],\n",
        "                   'DP Mortalidade'       : [df_coz_saudaveis['Taxa de Mortalidade (%)'].std(ddof=0)]})\n",
        "df"
      ],
      "execution_count": null,
      "outputs": [
        {
          "output_type": "execute_result",
          "data": {
            "text/html": [
              "<div>\n",
              "<style scoped>\n",
              "    .dataframe tbody tr th:only-of-type {\n",
              "        vertical-align: middle;\n",
              "    }\n",
              "\n",
              "    .dataframe tbody tr th {\n",
              "        vertical-align: top;\n",
              "    }\n",
              "\n",
              "    .dataframe thead th {\n",
              "        text-align: right;\n",
              "    }\n",
              "</style>\n",
              "<table border=\"1\" class=\"dataframe\">\n",
              "  <thead>\n",
              "    <tr style=\"text-align: right;\">\n",
              "      <th></th>\n",
              "      <th>Média de Consumo</th>\n",
              "      <th>DP Consumo</th>\n",
              "      <th>Média de Recuperação</th>\n",
              "      <th>DP Recuperação</th>\n",
              "      <th>Média de Mortalidade</th>\n",
              "      <th>DP Mortalidade</th>\n",
              "    </tr>\n",
              "  </thead>\n",
              "  <tbody>\n",
              "    <tr>\n",
              "      <th>0</th>\n",
              "      <td>17.3139</td>\n",
              "      <td>7.014414</td>\n",
              "      <td>98.376271</td>\n",
              "      <td>0.882762</td>\n",
              "      <td>1.623729</td>\n",
              "      <td>0.882762</td>\n",
              "    </tr>\n",
              "  </tbody>\n",
              "</table>\n",
              "</div>"
            ],
            "text/plain": [
              "   Média de Consumo  DP Consumo  ...  Média de Mortalidade  DP Mortalidade\n",
              "0           17.3139    7.014414  ...              1.623729        0.882762\n",
              "\n",
              "[1 rows x 6 columns]"
            ]
          },
          "metadata": {},
          "execution_count": 77
        }
      ]
    },
    {
      "cell_type": "code",
      "metadata": {
        "colab": {
          "base_uri": "https://localhost:8080/",
          "height": 143
        },
        "id": "8RrJCWujtGVR",
        "outputId": "31a6624d-f161-4840-c635-bd16a3b6c153"
      },
      "source": [
        "#DataFrame com o coeficiente r de correlação linear de Pearson.\n",
        "df_coz_saudaveis.corr()"
      ],
      "execution_count": null,
      "outputs": [
        {
          "output_type": "execute_result",
          "data": {
            "text/html": [
              "<div>\n",
              "<style scoped>\n",
              "    .dataframe tbody tr th:only-of-type {\n",
              "        vertical-align: middle;\n",
              "    }\n",
              "\n",
              "    .dataframe tbody tr th {\n",
              "        vertical-align: top;\n",
              "    }\n",
              "\n",
              "    .dataframe thead th {\n",
              "        text-align: right;\n",
              "    }\n",
              "</style>\n",
              "<table border=\"1\" class=\"dataframe\">\n",
              "  <thead>\n",
              "    <tr style=\"text-align: right;\">\n",
              "      <th></th>\n",
              "      <th>Consumo de Cereais (%)</th>\n",
              "      <th>Taxa de Recuperação (%)</th>\n",
              "      <th>Taxa de Mortalidade (%)</th>\n",
              "    </tr>\n",
              "  </thead>\n",
              "  <tbody>\n",
              "    <tr>\n",
              "      <th>Consumo de Cereais (%)</th>\n",
              "      <td>1.00000</td>\n",
              "      <td>-0.22865</td>\n",
              "      <td>0.22865</td>\n",
              "    </tr>\n",
              "    <tr>\n",
              "      <th>Taxa de Recuperação (%)</th>\n",
              "      <td>-0.22865</td>\n",
              "      <td>1.00000</td>\n",
              "      <td>-1.00000</td>\n",
              "    </tr>\n",
              "    <tr>\n",
              "      <th>Taxa de Mortalidade (%)</th>\n",
              "      <td>0.22865</td>\n",
              "      <td>-1.00000</td>\n",
              "      <td>1.00000</td>\n",
              "    </tr>\n",
              "  </tbody>\n",
              "</table>\n",
              "</div>"
            ],
            "text/plain": [
              "                         Consumo de Cereais (%)  ...  Taxa de Mortalidade (%)\n",
              "Consumo de Cereais (%)                  1.00000  ...                  0.22865\n",
              "Taxa de Recuperação (%)                -0.22865  ...                 -1.00000\n",
              "Taxa de Mortalidade (%)                 0.22865  ...                  1.00000\n",
              "\n",
              "[3 rows x 3 columns]"
            ]
          },
          "metadata": {},
          "execution_count": 78
        }
      ]
    },
    {
      "cell_type": "code",
      "metadata": {
        "colab": {
          "base_uri": "https://localhost:8080/",
          "height": 860
        },
        "id": "OzxnGKEXErE8",
        "outputId": "8025d4b6-e353-4607-f518-df77dfbc70dc"
      },
      "source": [
        "#Gráficos de regressão linear.\n",
        "apresentar(df_coz_saudaveis)"
      ],
      "execution_count": null,
      "outputs": [
        {
          "output_type": "stream",
          "name": "stdout",
          "text": [
            "Coeficiente r de correlação linear de Pearson:\n",
            "\n",
            "Consumo x Recuperação:  (-0.22864995117405273, 0.6218985834423)\n",
            "r = -0.2286499511740528\n",
            "\n",
            "Consumo x Mortalidade:  (0.22864995117405182, 0.6218985834423014)\n",
            "r = 0.22864995117405187\n",
            "\n",
            "\n",
            "Equação: y = 98.874 + -0.028776X\n",
            "\n",
            "\n"
          ]
        },
        {
          "output_type": "display_data",
          "data": {
            "image/png": "[encoded data removed]",
            "text/plain": [
              "<Figure size 432x288 with 1 Axes>"
            ]
          },
          "metadata": {
            "needs_background": "light"
          }
        },
        {
          "output_type": "stream",
          "name": "stdout",
          "text": [
            "\n",
            "\n",
            "Equação: y = 1.1255 + 0.028776X\n",
            "\n",
            "\n"
          ]
        },
        {
          "output_type": "display_data",
          "data": {
            "image/png": "[encoded data removed]",
            "text/plain": [
              "<Figure size 432x288 with 1 Axes>"
            ]
          },
          "metadata": {
            "needs_background": "light"
          }
        }
      ]
    },
    {
      "cell_type": "markdown",
      "metadata": {
        "id": "SI6ELweAmsPt"
      },
      "source": [
        "# (e) Europa Mediterrânea"
      ]
    },
    {
      "cell_type": "code",
      "metadata": {
        "id": "q_s00rzy5m2t",
        "colab": {
          "base_uri": "https://localhost:8080/",
          "height": 175
        },
        "outputId": "9eb91b37-baae-45b2-9f48-6f1e11ccd73c"
      },
      "source": [
        "#DataFrame com o consumo de cereais (%), taxa de recuperação (%) e taxa de mortalidade (%).\n",
        "df_europa.head()"
      ],
      "execution_count": null,
      "outputs": [
        {
          "output_type": "execute_result",
          "data": {
            "text/html": [
              "<div>\n",
              "<style scoped>\n",
              "    .dataframe tbody tr th:only-of-type {\n",
              "        vertical-align: middle;\n",
              "    }\n",
              "\n",
              "    .dataframe tbody tr th {\n",
              "        vertical-align: top;\n",
              "    }\n",
              "\n",
              "    .dataframe thead th {\n",
              "        text-align: right;\n",
              "    }\n",
              "</style>\n",
              "<table border=\"1\" class=\"dataframe\">\n",
              "  <thead>\n",
              "    <tr style=\"text-align: right;\">\n",
              "      <th></th>\n",
              "      <th>Consumo de Cereais (%)</th>\n",
              "      <th>Taxa de Recuperação (%)</th>\n",
              "      <th>Taxa de Mortalidade (%)</th>\n",
              "    </tr>\n",
              "  </thead>\n",
              "  <tbody>\n",
              "    <tr>\n",
              "      <th>0</th>\n",
              "      <td>11.2506</td>\n",
              "      <td>96.8345</td>\n",
              "      <td>3.1655</td>\n",
              "    </tr>\n",
              "    <tr>\n",
              "      <th>1</th>\n",
              "      <td>13.4993</td>\n",
              "      <td>96.5758</td>\n",
              "      <td>3.4242</td>\n",
              "    </tr>\n",
              "    <tr>\n",
              "      <th>2</th>\n",
              "      <td>14.5430</td>\n",
              "      <td>98.0543</td>\n",
              "      <td>1.9457</td>\n",
              "    </tr>\n",
              "    <tr>\n",
              "      <th>3</th>\n",
              "      <td>16.4832</td>\n",
              "      <td>92.0623</td>\n",
              "      <td>7.9377</td>\n",
              "    </tr>\n",
              "  </tbody>\n",
              "</table>\n",
              "</div>"
            ],
            "text/plain": [
              "   Consumo de Cereais (%)  Taxa de Recuperação (%)  Taxa de Mortalidade (%)\n",
              "0                 11.2506                  96.8345                   3.1655\n",
              "1                 13.4993                  96.5758                   3.4242\n",
              "2                 14.5430                  98.0543                   1.9457\n",
              "3                 16.4832                  92.0623                   7.9377"
            ]
          },
          "metadata": {},
          "execution_count": 80
        }
      ]
    },
    {
      "cell_type": "code",
      "metadata": {
        "colab": {
          "base_uri": "https://localhost:8080/",
          "height": 81
        },
        "id": "OC14icxuEzrz",
        "outputId": "5fede375-1da6-4c10-90fa-405ab37fb40e"
      },
      "source": [
        "#DataFrame com a média e o desvio padrão do consumo de cereais (%), da taxa de recuperação (%) e da taxa de mortalidade (%).\n",
        "df = pd.DataFrame({'Média de Consumo'     : [df_europa['Consumo de Cereais (%)'].mean()],\n",
        "                   'DP Consumo'           : [df_europa['Consumo de Cereais (%)'].std(ddof=0)],\n",
        "                   'Média de Recuperação' : [df_europa['Taxa de Recuperação (%)'].mean()],\n",
        "                   'DP Recuperação'       : [df_europa['Taxa de Recuperação (%)'].std(ddof=0)],\n",
        "                   'Média de Mortalidade' : [df_europa['Taxa de Mortalidade (%)'].mean()],\n",
        "                   'DP Mortalidade'       : [df_europa['Taxa de Mortalidade (%)'].std(ddof=0)]})\n",
        "df"
      ],
      "execution_count": null,
      "outputs": [
        {
          "output_type": "execute_result",
          "data": {
            "text/html": [
              "<div>\n",
              "<style scoped>\n",
              "    .dataframe tbody tr th:only-of-type {\n",
              "        vertical-align: middle;\n",
              "    }\n",
              "\n",
              "    .dataframe tbody tr th {\n",
              "        vertical-align: top;\n",
              "    }\n",
              "\n",
              "    .dataframe thead th {\n",
              "        text-align: right;\n",
              "    }\n",
              "</style>\n",
              "<table border=\"1\" class=\"dataframe\">\n",
              "  <thead>\n",
              "    <tr style=\"text-align: right;\">\n",
              "      <th></th>\n",
              "      <th>Média de Consumo</th>\n",
              "      <th>DP Consumo</th>\n",
              "      <th>Média de Recuperação</th>\n",
              "      <th>DP Recuperação</th>\n",
              "      <th>Média de Mortalidade</th>\n",
              "      <th>DP Mortalidade</th>\n",
              "    </tr>\n",
              "  </thead>\n",
              "  <tbody>\n",
              "    <tr>\n",
              "      <th>0</th>\n",
              "      <td>13.944025</td>\n",
              "      <td>1.888021</td>\n",
              "      <td>95.881725</td>\n",
              "      <td>2.274731</td>\n",
              "      <td>4.118275</td>\n",
              "      <td>2.274731</td>\n",
              "    </tr>\n",
              "  </tbody>\n",
              "</table>\n",
              "</div>"
            ],
            "text/plain": [
              "   Média de Consumo  DP Consumo  ...  Média de Mortalidade  DP Mortalidade\n",
              "0         13.944025    1.888021  ...              4.118275        2.274731\n",
              "\n",
              "[1 rows x 6 columns]"
            ]
          },
          "metadata": {},
          "execution_count": 81
        }
      ]
    },
    {
      "cell_type": "code",
      "metadata": {
        "colab": {
          "base_uri": "https://localhost:8080/",
          "height": 143
        },
        "id": "A-9DIv_UkB-w",
        "outputId": "20ce2598-f5cf-4eb8-f5b8-d98da96cbe8b"
      },
      "source": [
        "#DataFrame com o coeficiente r de correlação linear de Pearson.\n",
        "df_europa.corr()"
      ],
      "execution_count": null,
      "outputs": [
        {
          "output_type": "execute_result",
          "data": {
            "text/html": [
              "<div>\n",
              "<style scoped>\n",
              "    .dataframe tbody tr th:only-of-type {\n",
              "        vertical-align: middle;\n",
              "    }\n",
              "\n",
              "    .dataframe tbody tr th {\n",
              "        vertical-align: top;\n",
              "    }\n",
              "\n",
              "    .dataframe thead th {\n",
              "        text-align: right;\n",
              "    }\n",
              "</style>\n",
              "<table border=\"1\" class=\"dataframe\">\n",
              "  <thead>\n",
              "    <tr style=\"text-align: right;\">\n",
              "      <th></th>\n",
              "      <th>Consumo de Cereais (%)</th>\n",
              "      <th>Taxa de Recuperação (%)</th>\n",
              "      <th>Taxa de Mortalidade (%)</th>\n",
              "    </tr>\n",
              "  </thead>\n",
              "  <tbody>\n",
              "    <tr>\n",
              "      <th>Consumo de Cereais (%)</th>\n",
              "      <td>1.000000</td>\n",
              "      <td>-0.656138</td>\n",
              "      <td>0.656138</td>\n",
              "    </tr>\n",
              "    <tr>\n",
              "      <th>Taxa de Recuperação (%)</th>\n",
              "      <td>-0.656138</td>\n",
              "      <td>1.000000</td>\n",
              "      <td>-1.000000</td>\n",
              "    </tr>\n",
              "    <tr>\n",
              "      <th>Taxa de Mortalidade (%)</th>\n",
              "      <td>0.656138</td>\n",
              "      <td>-1.000000</td>\n",
              "      <td>1.000000</td>\n",
              "    </tr>\n",
              "  </tbody>\n",
              "</table>\n",
              "</div>"
            ],
            "text/plain": [
              "                         Consumo de Cereais (%)  ...  Taxa de Mortalidade (%)\n",
              "Consumo de Cereais (%)                 1.000000  ...                 0.656138\n",
              "Taxa de Recuperação (%)               -0.656138  ...                -1.000000\n",
              "Taxa de Mortalidade (%)                0.656138  ...                 1.000000\n",
              "\n",
              "[3 rows x 3 columns]"
            ]
          },
          "metadata": {},
          "execution_count": 82
        }
      ]
    },
    {
      "cell_type": "code",
      "metadata": {
        "colab": {
          "base_uri": "https://localhost:8080/",
          "height": 854
        },
        "id": "H6frvS0rtL-c",
        "outputId": "b1dcb327-e798-45bb-a865-d1cbc6207913"
      },
      "source": [
        "#Gráficos de regressão linear.\n",
        "apresentar(df_europa)"
      ],
      "execution_count": null,
      "outputs": [
        {
          "output_type": "stream",
          "name": "stdout",
          "text": [
            "Coeficiente r de correlação linear de Pearson:\n",
            "\n",
            "Consumo x Recuperação:  (-0.6561379322676796, 0.3438620677323204)\n",
            "r = -0.6561379322676797\n",
            "\n",
            "Consumo x Mortalidade:  (0.6561379322676785, 0.34386206773232153)\n",
            "r = 0.6561379322676786\n",
            "\n",
            "\n",
            "Equação: y = 106.9 + -0.79053X\n",
            "\n",
            "\n"
          ]
        },
        {
          "output_type": "display_data",
          "data": {
            "image/png": "[encoded data removed]",
            "text/plain": [
              "<Figure size 432x288 with 1 Axes>"
            ]
          },
          "metadata": {
            "needs_background": "light"
          }
        },
        {
          "output_type": "stream",
          "name": "stdout",
          "text": [
            "\n",
            "\n",
            "Equação: y = -6.9049 + 0.79053X\n",
            "\n",
            "\n"
          ]
        },
        {
          "output_type": "display_data",
          "data": {
            "image/png": "[encoded data removed]",
            "text/plain": [
              "<Figure size 432x288 with 1 Axes>"
            ]
          },
          "metadata": {
            "needs_background": "light"
          }
        }
      ]
    },
    {
      "cell_type": "markdown",
      "metadata": {
        "id": "3S6WxfCJm1Zk"
      },
      "source": [
        "# (f) Mediterrâneo Oriental"
      ]
    },
    {
      "cell_type": "code",
      "metadata": {
        "id": "voDdcCaH5sWR",
        "colab": {
          "base_uri": "https://localhost:8080/",
          "height": 175
        },
        "outputId": "8514b4ac-1adf-45ca-958a-11652868ace8"
      },
      "source": [
        "#DataFrame com o consumo de cereais (%), taxa de recuperação (%) e taxa de mortalidade (%).\n",
        "df_mediterraneo.head()"
      ],
      "execution_count": null,
      "outputs": [
        {
          "output_type": "execute_result",
          "data": {
            "text/html": [
              "<div>\n",
              "<style scoped>\n",
              "    .dataframe tbody tr th:only-of-type {\n",
              "        vertical-align: middle;\n",
              "    }\n",
              "\n",
              "    .dataframe tbody tr th {\n",
              "        vertical-align: top;\n",
              "    }\n",
              "\n",
              "    .dataframe thead th {\n",
              "        text-align: right;\n",
              "    }\n",
              "</style>\n",
              "<table border=\"1\" class=\"dataframe\">\n",
              "  <thead>\n",
              "    <tr style=\"text-align: right;\">\n",
              "      <th></th>\n",
              "      <th>Consumo de Cereais (%)</th>\n",
              "      <th>Taxa de Recuperação (%)</th>\n",
              "      <th>Taxa de Mortalidade (%)</th>\n",
              "    </tr>\n",
              "  </thead>\n",
              "  <tbody>\n",
              "    <tr>\n",
              "      <th>0</th>\n",
              "      <td>30.3504</td>\n",
              "      <td>94.1870</td>\n",
              "      <td>5.8130</td>\n",
              "    </tr>\n",
              "    <tr>\n",
              "      <th>1</th>\n",
              "      <td>12.7832</td>\n",
              "      <td>99.2477</td>\n",
              "      <td>0.7523</td>\n",
              "    </tr>\n",
              "    <tr>\n",
              "      <th>2</th>\n",
              "      <td>23.2690</td>\n",
              "      <td>99.1765</td>\n",
              "      <td>0.8235</td>\n",
              "    </tr>\n",
              "    <tr>\n",
              "      <th>3</th>\n",
              "      <td>20.5038</td>\n",
              "      <td>97.3043</td>\n",
              "      <td>2.6957</td>\n",
              "    </tr>\n",
              "  </tbody>\n",
              "</table>\n",
              "</div>"
            ],
            "text/plain": [
              "   Consumo de Cereais (%)  Taxa de Recuperação (%)  Taxa de Mortalidade (%)\n",
              "0                 30.3504                  94.1870                   5.8130\n",
              "1                 12.7832                  99.2477                   0.7523\n",
              "2                 23.2690                  99.1765                   0.8235\n",
              "3                 20.5038                  97.3043                   2.6957"
            ]
          },
          "metadata": {},
          "execution_count": 84
        }
      ]
    },
    {
      "cell_type": "code",
      "metadata": {
        "colab": {
          "base_uri": "https://localhost:8080/",
          "height": 81
        },
        "id": "uwVHeFJbFXcm",
        "outputId": "18c8ae7c-9922-458e-fd5e-ef713f37eca8"
      },
      "source": [
        "#DataFrame com a média e o desvio padrão do consumo de cereais (%), da taxa de recuperação (%) e da taxa de mortalidade (%).\n",
        "df = pd.DataFrame({'Média de Consumo'     : [df_mediterraneo['Consumo de Cereais (%)'].mean()],\n",
        "                   'DP Consumo'           : [df_mediterraneo['Consumo de Cereais (%)'].std(ddof=0)],\n",
        "                   'Média de Recuperação' : [df_mediterraneo['Taxa de Recuperação (%)'].mean()],\n",
        "                   'DP Recuperação'       : [df_mediterraneo['Taxa de Recuperação (%)'].std(ddof=0)],\n",
        "                   'Média de Mortalidade' : [df_mediterraneo['Taxa de Mortalidade (%)'].mean()],\n",
        "                   'DP Mortalidade'       : [df_mediterraneo['Taxa de Mortalidade (%)'].std(ddof=0)]})\n",
        "df"
      ],
      "execution_count": null,
      "outputs": [
        {
          "output_type": "execute_result",
          "data": {
            "text/html": [
              "<div>\n",
              "<style scoped>\n",
              "    .dataframe tbody tr th:only-of-type {\n",
              "        vertical-align: middle;\n",
              "    }\n",
              "\n",
              "    .dataframe tbody tr th {\n",
              "        vertical-align: top;\n",
              "    }\n",
              "\n",
              "    .dataframe thead th {\n",
              "        text-align: right;\n",
              "    }\n",
              "</style>\n",
              "<table border=\"1\" class=\"dataframe\">\n",
              "  <thead>\n",
              "    <tr style=\"text-align: right;\">\n",
              "      <th></th>\n",
              "      <th>Média de Consumo</th>\n",
              "      <th>DP Consumo</th>\n",
              "      <th>Média de Recuperação</th>\n",
              "      <th>DP Recuperação</th>\n",
              "      <th>Média de Mortalidade</th>\n",
              "      <th>DP Mortalidade</th>\n",
              "    </tr>\n",
              "  </thead>\n",
              "  <tbody>\n",
              "    <tr>\n",
              "      <th>0</th>\n",
              "      <td>21.7266</td>\n",
              "      <td>6.289447</td>\n",
              "      <td>97.478875</td>\n",
              "      <td>2.054117</td>\n",
              "      <td>2.521125</td>\n",
              "      <td>2.054117</td>\n",
              "    </tr>\n",
              "  </tbody>\n",
              "</table>\n",
              "</div>"
            ],
            "text/plain": [
              "   Média de Consumo  DP Consumo  ...  Média de Mortalidade  DP Mortalidade\n",
              "0           21.7266    6.289447  ...              2.521125        2.054117\n",
              "\n",
              "[1 rows x 6 columns]"
            ]
          },
          "metadata": {},
          "execution_count": 85
        }
      ]
    },
    {
      "cell_type": "code",
      "metadata": {
        "colab": {
          "base_uri": "https://localhost:8080/",
          "height": 143
        },
        "id": "iejpoMUatTcp",
        "outputId": "28afa987-01a8-4aca-a35c-9c3ad1dbbc36"
      },
      "source": [
        "#DataFrame com o coeficiente r de correlação linear de Pearson.\n",
        "df_mediterraneo.corr()"
      ],
      "execution_count": null,
      "outputs": [
        {
          "output_type": "execute_result",
          "data": {
            "text/html": [
              "<div>\n",
              "<style scoped>\n",
              "    .dataframe tbody tr th:only-of-type {\n",
              "        vertical-align: middle;\n",
              "    }\n",
              "\n",
              "    .dataframe tbody tr th {\n",
              "        vertical-align: top;\n",
              "    }\n",
              "\n",
              "    .dataframe thead th {\n",
              "        text-align: right;\n",
              "    }\n",
              "</style>\n",
              "<table border=\"1\" class=\"dataframe\">\n",
              "  <thead>\n",
              "    <tr style=\"text-align: right;\">\n",
              "      <th></th>\n",
              "      <th>Consumo de Cereais (%)</th>\n",
              "      <th>Taxa de Recuperação (%)</th>\n",
              "      <th>Taxa de Mortalidade (%)</th>\n",
              "    </tr>\n",
              "  </thead>\n",
              "  <tbody>\n",
              "    <tr>\n",
              "      <th>Consumo de Cereais (%)</th>\n",
              "      <td>1.000000</td>\n",
              "      <td>-0.800663</td>\n",
              "      <td>0.800663</td>\n",
              "    </tr>\n",
              "    <tr>\n",
              "      <th>Taxa de Recuperação (%)</th>\n",
              "      <td>-0.800663</td>\n",
              "      <td>1.000000</td>\n",
              "      <td>-1.000000</td>\n",
              "    </tr>\n",
              "    <tr>\n",
              "      <th>Taxa de Mortalidade (%)</th>\n",
              "      <td>0.800663</td>\n",
              "      <td>-1.000000</td>\n",
              "      <td>1.000000</td>\n",
              "    </tr>\n",
              "  </tbody>\n",
              "</table>\n",
              "</div>"
            ],
            "text/plain": [
              "                         Consumo de Cereais (%)  ...  Taxa de Mortalidade (%)\n",
              "Consumo de Cereais (%)                 1.000000  ...                 0.800663\n",
              "Taxa de Recuperação (%)               -0.800663  ...                -1.000000\n",
              "Taxa de Mortalidade (%)                0.800663  ...                 1.000000\n",
              "\n",
              "[3 rows x 3 columns]"
            ]
          },
          "metadata": {},
          "execution_count": 86
        }
      ]
    },
    {
      "cell_type": "code",
      "metadata": {
        "colab": {
          "base_uri": "https://localhost:8080/",
          "height": 860
        },
        "id": "aIwKlQN6Fhnr",
        "outputId": "ed3c71b5-8a92-40d3-e2ae-73b5aff8ff92"
      },
      "source": [
        "#Gráficos de regressão linear.\n",
        "apresentar(df_mediterraneo)"
      ],
      "execution_count": null,
      "outputs": [
        {
          "output_type": "stream",
          "name": "stdout",
          "text": [
            "Coeficiente r de correlação linear de Pearson:\n",
            "\n",
            "Consumo x Recuperação:  (-0.8006629395055845, 0.19933706049441546)\n",
            "r = -0.8006629395055845\n",
            "\n",
            "Consumo x Mortalidade:  (0.8006629395055855, 0.19933706049441446)\n",
            "r = 0.8006629395055854\n",
            "\n",
            "\n",
            "Equação: y = 103.16 + -0.26149X\n",
            "\n",
            "\n"
          ]
        },
        {
          "output_type": "display_data",
          "data": {
            "image/png": "[encoded data removed]",
            "text/plain": [
              "<Figure size 432x288 with 1 Axes>"
            ]
          },
          "metadata": {
            "needs_background": "light"
          }
        },
        {
          "output_type": "stream",
          "name": "stdout",
          "text": [
            "\n",
            "\n",
            "Equação: y = -3.1603 + 0.26149X\n",
            "\n",
            "\n"
          ]
        },
        {
          "output_type": "display_data",
          "data": {
            "image/png": "[encoded data removed]",
            "text/plain": [
              "<Figure size 432x288 with 1 Axes>"
            ]
          },
          "metadata": {
            "needs_background": "light"
          }
        }
      ]
    },
    {
      "cell_type": "markdown",
      "metadata": {
        "id": "JjETbB5em7Hm"
      },
      "source": [
        "# (g) Nórdicos"
      ]
    },
    {
      "cell_type": "code",
      "metadata": {
        "id": "5FIrTx055wMo",
        "colab": {
          "base_uri": "https://localhost:8080/",
          "height": 206
        },
        "outputId": "34414081-6aba-4501-deaa-7807ea29c5b1"
      },
      "source": [
        "#DataFrame com o consumo de cereais (%), taxa de recuperação (%) e taxa de mortalidade (%).\n",
        "df_nordicos.head()"
      ],
      "execution_count": null,
      "outputs": [
        {
          "output_type": "execute_result",
          "data": {
            "text/html": [
              "<div>\n",
              "<style scoped>\n",
              "    .dataframe tbody tr th:only-of-type {\n",
              "        vertical-align: middle;\n",
              "    }\n",
              "\n",
              "    .dataframe tbody tr th {\n",
              "        vertical-align: top;\n",
              "    }\n",
              "\n",
              "    .dataframe thead th {\n",
              "        text-align: right;\n",
              "    }\n",
              "</style>\n",
              "<table border=\"1\" class=\"dataframe\">\n",
              "  <thead>\n",
              "    <tr style=\"text-align: right;\">\n",
              "      <th></th>\n",
              "      <th>Consumo de Cereais (%)</th>\n",
              "      <th>Taxa de Recuperação (%)</th>\n",
              "      <th>Taxa de Mortalidade (%)</th>\n",
              "    </tr>\n",
              "  </thead>\n",
              "  <tbody>\n",
              "    <tr>\n",
              "      <th>0</th>\n",
              "      <td>12.0400</td>\n",
              "      <td>98.1623</td>\n",
              "      <td>1.8377</td>\n",
              "    </tr>\n",
              "    <tr>\n",
              "      <th>1</th>\n",
              "      <td>13.0758</td>\n",
              "      <td>97.5097</td>\n",
              "      <td>2.4903</td>\n",
              "    </tr>\n",
              "    <tr>\n",
              "      <th>2</th>\n",
              "      <td>9.3826</td>\n",
              "      <td>99.7423</td>\n",
              "      <td>0.2577</td>\n",
              "    </tr>\n",
              "    <tr>\n",
              "      <th>3</th>\n",
              "      <td>11.9831</td>\n",
              "      <td>98.3709</td>\n",
              "      <td>1.6291</td>\n",
              "    </tr>\n",
              "    <tr>\n",
              "      <th>4</th>\n",
              "      <td>12.2651</td>\n",
              "      <td>94.5581</td>\n",
              "      <td>5.4419</td>\n",
              "    </tr>\n",
              "  </tbody>\n",
              "</table>\n",
              "</div>"
            ],
            "text/plain": [
              "   Consumo de Cereais (%)  Taxa de Recuperação (%)  Taxa de Mortalidade (%)\n",
              "0                 12.0400                  98.1623                   1.8377\n",
              "1                 13.0758                  97.5097                   2.4903\n",
              "2                  9.3826                  99.7423                   0.2577\n",
              "3                 11.9831                  98.3709                   1.6291\n",
              "4                 12.2651                  94.5581                   5.4419"
            ]
          },
          "metadata": {},
          "execution_count": 88
        }
      ]
    },
    {
      "cell_type": "code",
      "metadata": {
        "colab": {
          "base_uri": "https://localhost:8080/",
          "height": 81
        },
        "id": "zUtzYspOFrqg",
        "outputId": "dcdc0897-fb52-4bc7-8038-3ab602b9e180"
      },
      "source": [
        "#DataFrame com a média e o desvio padrão do consumo de cereais (%), da taxa de recuperação (%) e da taxa de mortalidade (%).\n",
        "df = pd.DataFrame({'Média de Consumo'     : [df_nordicos['Consumo de Cereais (%)'].mean()],\n",
        "                   'DP Consumo'           : [df_nordicos['Consumo de Cereais (%)'].std(ddof=0)],\n",
        "                   'Média de Recuperação' : [df_nordicos['Taxa de Recuperação (%)'].mean()],\n",
        "                   'DP Recuperação'       : [df_nordicos['Taxa de Recuperação (%)'].std(ddof=0)],\n",
        "                   'Média de Mortalidade' : [df_nordicos['Taxa de Mortalidade (%)'].mean()],\n",
        "                   'DP Mortalidade'       : [df_nordicos['Taxa de Mortalidade (%)'].std(ddof=0)]})\n",
        "df"
      ],
      "execution_count": null,
      "outputs": [
        {
          "output_type": "execute_result",
          "data": {
            "text/html": [
              "<div>\n",
              "<style scoped>\n",
              "    .dataframe tbody tr th:only-of-type {\n",
              "        vertical-align: middle;\n",
              "    }\n",
              "\n",
              "    .dataframe tbody tr th {\n",
              "        vertical-align: top;\n",
              "    }\n",
              "\n",
              "    .dataframe thead th {\n",
              "        text-align: right;\n",
              "    }\n",
              "</style>\n",
              "<table border=\"1\" class=\"dataframe\">\n",
              "  <thead>\n",
              "    <tr style=\"text-align: right;\">\n",
              "      <th></th>\n",
              "      <th>Média de Consumo</th>\n",
              "      <th>DP Consumo</th>\n",
              "      <th>Média de Recuperação</th>\n",
              "      <th>DP Recuperação</th>\n",
              "      <th>Média de Mortalidade</th>\n",
              "      <th>DP Mortalidade</th>\n",
              "    </tr>\n",
              "  </thead>\n",
              "  <tbody>\n",
              "    <tr>\n",
              "      <th>0</th>\n",
              "      <td>11.74932</td>\n",
              "      <td>1.246282</td>\n",
              "      <td>97.66866</td>\n",
              "      <td>1.716838</td>\n",
              "      <td>2.33134</td>\n",
              "      <td>1.716838</td>\n",
              "    </tr>\n",
              "  </tbody>\n",
              "</table>\n",
              "</div>"
            ],
            "text/plain": [
              "   Média de Consumo  DP Consumo  ...  Média de Mortalidade  DP Mortalidade\n",
              "0          11.74932    1.246282  ...               2.33134        1.716838\n",
              "\n",
              "[1 rows x 6 columns]"
            ]
          },
          "metadata": {},
          "execution_count": 89
        }
      ]
    },
    {
      "cell_type": "code",
      "metadata": {
        "colab": {
          "base_uri": "https://localhost:8080/",
          "height": 143
        },
        "id": "rUHMSwRitZgf",
        "outputId": "65cb37fb-4594-46f1-95a4-6eaa1cc491c9"
      },
      "source": [
        "#DataFrame com o coeficiente r de correlação linear de Pearson.\n",
        "df_nordicos.corr()"
      ],
      "execution_count": null,
      "outputs": [
        {
          "output_type": "execute_result",
          "data": {
            "text/html": [
              "<div>\n",
              "<style scoped>\n",
              "    .dataframe tbody tr th:only-of-type {\n",
              "        vertical-align: middle;\n",
              "    }\n",
              "\n",
              "    .dataframe tbody tr th {\n",
              "        vertical-align: top;\n",
              "    }\n",
              "\n",
              "    .dataframe thead th {\n",
              "        text-align: right;\n",
              "    }\n",
              "</style>\n",
              "<table border=\"1\" class=\"dataframe\">\n",
              "  <thead>\n",
              "    <tr style=\"text-align: right;\">\n",
              "      <th></th>\n",
              "      <th>Consumo de Cereais (%)</th>\n",
              "      <th>Taxa de Recuperação (%)</th>\n",
              "      <th>Taxa de Mortalidade (%)</th>\n",
              "    </tr>\n",
              "  </thead>\n",
              "  <tbody>\n",
              "    <tr>\n",
              "      <th>Consumo de Cereais (%)</th>\n",
              "      <td>1.000000</td>\n",
              "      <td>-0.599654</td>\n",
              "      <td>0.599654</td>\n",
              "    </tr>\n",
              "    <tr>\n",
              "      <th>Taxa de Recuperação (%)</th>\n",
              "      <td>-0.599654</td>\n",
              "      <td>1.000000</td>\n",
              "      <td>-1.000000</td>\n",
              "    </tr>\n",
              "    <tr>\n",
              "      <th>Taxa de Mortalidade (%)</th>\n",
              "      <td>0.599654</td>\n",
              "      <td>-1.000000</td>\n",
              "      <td>1.000000</td>\n",
              "    </tr>\n",
              "  </tbody>\n",
              "</table>\n",
              "</div>"
            ],
            "text/plain": [
              "                         Consumo de Cereais (%)  ...  Taxa de Mortalidade (%)\n",
              "Consumo de Cereais (%)                 1.000000  ...                 0.599654\n",
              "Taxa de Recuperação (%)               -0.599654  ...                -1.000000\n",
              "Taxa de Mortalidade (%)                0.599654  ...                 1.000000\n",
              "\n",
              "[3 rows x 3 columns]"
            ]
          },
          "metadata": {},
          "execution_count": 90
        }
      ]
    },
    {
      "cell_type": "code",
      "metadata": {
        "colab": {
          "base_uri": "https://localhost:8080/",
          "height": 860
        },
        "id": "PXLstlfoF7o2",
        "outputId": "55541ec0-b387-4b5f-9e88-725759ceb295"
      },
      "source": [
        "#Gráficos de regressão linear.\n",
        "apresentar(df_nordicos)"
      ],
      "execution_count": null,
      "outputs": [
        {
          "output_type": "stream",
          "name": "stdout",
          "text": [
            "Coeficiente r de correlação linear de Pearson:\n",
            "\n",
            "Consumo x Recuperação:  (-0.5996538500182326, 0.2851096225340097)\n",
            "r = -0.5996538500182327\n",
            "\n",
            "Consumo x Mortalidade:  (0.5996538500182327, 0.28510962253400957)\n",
            "r = 0.5996538500182328\n",
            "\n",
            "\n",
            "Equação: y = 107.37 + -0.82606X\n",
            "\n",
            "\n"
          ]
        },
        {
          "output_type": "display_data",
          "data": {
            "image/png": "[encoded data removed]",
            "text/plain": [
              "<Figure size 432x288 with 1 Axes>"
            ]
          },
          "metadata": {
            "needs_background": "light"
          }
        },
        {
          "output_type": "stream",
          "name": "stdout",
          "text": [
            "\n",
            "\n",
            "Equação: y = -7.3743 + 0.82606X\n",
            "\n",
            "\n"
          ]
        },
        {
          "output_type": "display_data",
          "data": {
            "image/png": "[encoded data removed]",
            "text/plain": [
              "<Figure size 432x288 with 1 Axes>"
            ]
          },
          "metadata": {
            "needs_background": "light"
          }
        }
      ]
    },
    {
      "cell_type": "markdown",
      "metadata": {
        "id": "4ZF2k9gZIYUR"
      },
      "source": [
        "# (g*) Nórdicos sem a Suécia"
      ]
    },
    {
      "cell_type": "code",
      "metadata": {
        "colab": {
          "base_uri": "https://localhost:8080/",
          "height": 175
        },
        "id": "fb0WhG2EIcbe",
        "outputId": "f7e5ca91-c03e-4de5-b683-ff9d13f50db9"
      },
      "source": [
        "#DataFrame com o consumo de cereais (%), taxa de recuperação (%) e taxa de mortalidade (%).\n",
        "df_nordicos_sem_suecia.head()"
      ],
      "execution_count": null,
      "outputs": [
        {
          "output_type": "execute_result",
          "data": {
            "text/html": [
              "<div>\n",
              "<style scoped>\n",
              "    .dataframe tbody tr th:only-of-type {\n",
              "        vertical-align: middle;\n",
              "    }\n",
              "\n",
              "    .dataframe tbody tr th {\n",
              "        vertical-align: top;\n",
              "    }\n",
              "\n",
              "    .dataframe thead th {\n",
              "        text-align: right;\n",
              "    }\n",
              "</style>\n",
              "<table border=\"1\" class=\"dataframe\">\n",
              "  <thead>\n",
              "    <tr style=\"text-align: right;\">\n",
              "      <th></th>\n",
              "      <th>Consumo de Cereais (%)</th>\n",
              "      <th>Taxa de Recuperação (%)</th>\n",
              "      <th>Taxa de Mortalidade (%)</th>\n",
              "    </tr>\n",
              "  </thead>\n",
              "  <tbody>\n",
              "    <tr>\n",
              "      <th>0</th>\n",
              "      <td>12.0400</td>\n",
              "      <td>98.1623</td>\n",
              "      <td>1.8377</td>\n",
              "    </tr>\n",
              "    <tr>\n",
              "      <th>1</th>\n",
              "      <td>13.0758</td>\n",
              "      <td>97.5097</td>\n",
              "      <td>2.4903</td>\n",
              "    </tr>\n",
              "    <tr>\n",
              "      <th>2</th>\n",
              "      <td>9.3826</td>\n",
              "      <td>99.7423</td>\n",
              "      <td>0.2577</td>\n",
              "    </tr>\n",
              "    <tr>\n",
              "      <th>3</th>\n",
              "      <td>11.9831</td>\n",
              "      <td>98.3709</td>\n",
              "      <td>1.6291</td>\n",
              "    </tr>\n",
              "  </tbody>\n",
              "</table>\n",
              "</div>"
            ],
            "text/plain": [
              "   Consumo de Cereais (%)  Taxa de Recuperação (%)  Taxa de Mortalidade (%)\n",
              "0                 12.0400                  98.1623                   1.8377\n",
              "1                 13.0758                  97.5097                   2.4903\n",
              "2                  9.3826                  99.7423                   0.2577\n",
              "3                 11.9831                  98.3709                   1.6291"
            ]
          },
          "metadata": {},
          "execution_count": 92
        }
      ]
    },
    {
      "cell_type": "code",
      "metadata": {
        "colab": {
          "base_uri": "https://localhost:8080/",
          "height": 81
        },
        "id": "LQqwBewSIcnR",
        "outputId": "268bc50e-d97a-4fb3-e3d1-5beaae739112"
      },
      "source": [
        "#DataFrame com a média e o desvio padrão do consumo de cereais (%), da taxa de recuperação (%) e da taxa de mortalidade (%).\n",
        "df = pd.DataFrame({'Média de Consumo'     : [df_nordicos_sem_suecia['Consumo de Cereais (%)'].mean()],\n",
        "                   'DP Consumo'           : [df_nordicos_sem_suecia['Consumo de Cereais (%)'].std(ddof=0)],\n",
        "                   'Média de Recuperação' : [df_nordicos_sem_suecia['Taxa de Recuperação (%)'].mean()],\n",
        "                   'DP Recuperação'       : [df_nordicos_sem_suecia['Taxa de Recuperação (%)'].std(ddof=0)],\n",
        "                   'Média de Mortalidade' : [df_nordicos_sem_suecia['Taxa de Mortalidade (%)'].mean()],\n",
        "                   'DP Mortalidade'       : [df_nordicos_sem_suecia['Taxa de Mortalidade (%)'].std(ddof=0)]})\n",
        "df"
      ],
      "execution_count": null,
      "outputs": [
        {
          "output_type": "execute_result",
          "data": {
            "text/html": [
              "<div>\n",
              "<style scoped>\n",
              "    .dataframe tbody tr th:only-of-type {\n",
              "        vertical-align: middle;\n",
              "    }\n",
              "\n",
              "    .dataframe tbody tr th {\n",
              "        vertical-align: top;\n",
              "    }\n",
              "\n",
              "    .dataframe thead th {\n",
              "        text-align: right;\n",
              "    }\n",
              "</style>\n",
              "<table border=\"1\" class=\"dataframe\">\n",
              "  <thead>\n",
              "    <tr style=\"text-align: right;\">\n",
              "      <th></th>\n",
              "      <th>Média de Consumo</th>\n",
              "      <th>DP Consumo</th>\n",
              "      <th>Média de Recuperação</th>\n",
              "      <th>DP Recuperação</th>\n",
              "      <th>Média de Mortalidade</th>\n",
              "      <th>DP Mortalidade</th>\n",
              "    </tr>\n",
              "  </thead>\n",
              "  <tbody>\n",
              "    <tr>\n",
              "      <th>0</th>\n",
              "      <td>11.620375</td>\n",
              "      <td>1.363227</td>\n",
              "      <td>98.4463</td>\n",
              "      <td>0.812892</td>\n",
              "      <td>1.5537</td>\n",
              "      <td>0.812892</td>\n",
              "    </tr>\n",
              "  </tbody>\n",
              "</table>\n",
              "</div>"
            ],
            "text/plain": [
              "   Média de Consumo  DP Consumo  ...  Média de Mortalidade  DP Mortalidade\n",
              "0         11.620375    1.363227  ...                1.5537        0.812892\n",
              "\n",
              "[1 rows x 6 columns]"
            ]
          },
          "metadata": {},
          "execution_count": 93
        }
      ]
    },
    {
      "cell_type": "code",
      "metadata": {
        "colab": {
          "base_uri": "https://localhost:8080/",
          "height": 143
        },
        "id": "ZVhWPrQzIcyt",
        "outputId": "608ac79f-dcb4-419f-9f38-c7f6001a07fd"
      },
      "source": [
        "#DataFrame com o coeficiente r de correlação linear de Pearson.\n",
        "df_nordicos_sem_suecia.corr()"
      ],
      "execution_count": null,
      "outputs": [
        {
          "output_type": "execute_result",
          "data": {
            "text/html": [
              "<div>\n",
              "<style scoped>\n",
              "    .dataframe tbody tr th:only-of-type {\n",
              "        vertical-align: middle;\n",
              "    }\n",
              "\n",
              "    .dataframe tbody tr th {\n",
              "        vertical-align: top;\n",
              "    }\n",
              "\n",
              "    .dataframe thead th {\n",
              "        text-align: right;\n",
              "    }\n",
              "</style>\n",
              "<table border=\"1\" class=\"dataframe\">\n",
              "  <thead>\n",
              "    <tr style=\"text-align: right;\">\n",
              "      <th></th>\n",
              "      <th>Consumo de Cereais (%)</th>\n",
              "      <th>Taxa de Recuperação (%)</th>\n",
              "      <th>Taxa de Mortalidade (%)</th>\n",
              "    </tr>\n",
              "  </thead>\n",
              "  <tbody>\n",
              "    <tr>\n",
              "      <th>Consumo de Cereais (%)</th>\n",
              "      <td>1.000000</td>\n",
              "      <td>-0.994857</td>\n",
              "      <td>0.994857</td>\n",
              "    </tr>\n",
              "    <tr>\n",
              "      <th>Taxa de Recuperação (%)</th>\n",
              "      <td>-0.994857</td>\n",
              "      <td>1.000000</td>\n",
              "      <td>-1.000000</td>\n",
              "    </tr>\n",
              "    <tr>\n",
              "      <th>Taxa de Mortalidade (%)</th>\n",
              "      <td>0.994857</td>\n",
              "      <td>-1.000000</td>\n",
              "      <td>1.000000</td>\n",
              "    </tr>\n",
              "  </tbody>\n",
              "</table>\n",
              "</div>"
            ],
            "text/plain": [
              "                         Consumo de Cereais (%)  ...  Taxa de Mortalidade (%)\n",
              "Consumo de Cereais (%)                 1.000000  ...                 0.994857\n",
              "Taxa de Recuperação (%)               -0.994857  ...                -1.000000\n",
              "Taxa de Mortalidade (%)                0.994857  ...                 1.000000\n",
              "\n",
              "[3 rows x 3 columns]"
            ]
          },
          "metadata": {},
          "execution_count": 94
        }
      ]
    },
    {
      "cell_type": "code",
      "metadata": {
        "colab": {
          "base_uri": "https://localhost:8080/",
          "height": 860
        },
        "id": "DQs0S1Y8Ic_d",
        "outputId": "429f0ecd-ba83-4dcd-aff9-9088139f25c9"
      },
      "source": [
        "#Gráficos de regressão linear.\n",
        "apresentar(df_nordicos_sem_suecia)"
      ],
      "execution_count": null,
      "outputs": [
        {
          "output_type": "stream",
          "name": "stdout",
          "text": [
            "Coeficiente r de correlação linear de Pearson:\n",
            "\n",
            "Consumo x Recuperação:  (-0.9948567582342706, 0.005143241765729445)\n",
            "r = -0.9948567582342708\n",
            "\n",
            "Consumo x Mortalidade:  (0.9948567582342711, 0.00514324176572889)\n",
            "r = 0.9948567582342711\n",
            "\n",
            "\n",
            "Equação: y = 105.34 + -0.59323X\n",
            "\n",
            "\n"
          ]
        },
        {
          "output_type": "display_data",
          "data": {
            "image/png": "[encoded data removed]",
            "text/plain": [
              "<Figure size 432x288 with 1 Axes>"
            ]
          },
          "metadata": {
            "needs_background": "light"
          }
        },
        {
          "output_type": "stream",
          "name": "stdout",
          "text": [
            "\n",
            "\n",
            "Equação: y = -5.3399 + 0.59323X\n",
            "\n",
            "\n"
          ]
        },
        {
          "output_type": "display_data",
          "data": {
            "image/png": "[encoded data removed]",
            "text/plain": [
              "<Figure size 432x288 with 1 Axes>"
            ]
          },
          "metadata": {
            "needs_background": "light"
          }
        }
      ]
    },
    {
      "cell_type": "markdown",
      "metadata": {
        "id": "yFgjH3wim-1s"
      },
      "source": [
        "# (h) Obesidade"
      ]
    },
    {
      "cell_type": "code",
      "metadata": {
        "id": "R_v5Qbl_5zm2",
        "colab": {
          "base_uri": "https://localhost:8080/",
          "height": 269
        },
        "outputId": "6d47781a-0319-47d8-b04e-96ae1beb57e6"
      },
      "source": [
        "#DataFrame com o consumo de cereais (%), taxa de recuperação (%) e taxa de mortalidade (%).\n",
        "df_obesidade.head(7)"
      ],
      "execution_count": null,
      "outputs": [
        {
          "output_type": "execute_result",
          "data": {
            "text/html": [
              "<div>\n",
              "<style scoped>\n",
              "    .dataframe tbody tr th:only-of-type {\n",
              "        vertical-align: middle;\n",
              "    }\n",
              "\n",
              "    .dataframe tbody tr th {\n",
              "        vertical-align: top;\n",
              "    }\n",
              "\n",
              "    .dataframe thead th {\n",
              "        text-align: right;\n",
              "    }\n",
              "</style>\n",
              "<table border=\"1\" class=\"dataframe\">\n",
              "  <thead>\n",
              "    <tr style=\"text-align: right;\">\n",
              "      <th></th>\n",
              "      <th>Consumo de Cereais (%)</th>\n",
              "      <th>Taxa de Recuperação (%)</th>\n",
              "      <th>Taxa de Mortalidade (%)</th>\n",
              "    </tr>\n",
              "  </thead>\n",
              "  <tbody>\n",
              "    <tr>\n",
              "      <th>0</th>\n",
              "      <td>18.6156</td>\n",
              "      <td>98.4338</td>\n",
              "      <td>1.5662</td>\n",
              "    </tr>\n",
              "    <tr>\n",
              "      <th>1</th>\n",
              "      <td>16.2513</td>\n",
              "      <td>99.6004</td>\n",
              "      <td>0.3996</td>\n",
              "    </tr>\n",
              "    <tr>\n",
              "      <th>2</th>\n",
              "      <td>10.4594</td>\n",
              "      <td>97.3608</td>\n",
              "      <td>2.6392</td>\n",
              "    </tr>\n",
              "    <tr>\n",
              "      <th>3</th>\n",
              "      <td>17.5357</td>\n",
              "      <td>99.3888</td>\n",
              "      <td>0.6112</td>\n",
              "    </tr>\n",
              "    <tr>\n",
              "      <th>4</th>\n",
              "      <td>13.7350</td>\n",
              "      <td>99.0462</td>\n",
              "      <td>0.9538</td>\n",
              "    </tr>\n",
              "    <tr>\n",
              "      <th>5</th>\n",
              "      <td>19.3737</td>\n",
              "      <td>89.9241</td>\n",
              "      <td>10.0759</td>\n",
              "    </tr>\n",
              "    <tr>\n",
              "      <th>6</th>\n",
              "      <td>21.6526</td>\n",
              "      <td>99.1447</td>\n",
              "      <td>0.8553</td>\n",
              "    </tr>\n",
              "  </tbody>\n",
              "</table>\n",
              "</div>"
            ],
            "text/plain": [
              "   Consumo de Cereais (%)  Taxa de Recuperação (%)  Taxa de Mortalidade (%)\n",
              "0                 18.6156                  98.4338                   1.5662\n",
              "1                 16.2513                  99.6004                   0.3996\n",
              "2                 10.4594                  97.3608                   2.6392\n",
              "3                 17.5357                  99.3888                   0.6112\n",
              "4                 13.7350                  99.0462                   0.9538\n",
              "5                 19.3737                  89.9241                  10.0759\n",
              "6                 21.6526                  99.1447                   0.8553"
            ]
          },
          "metadata": {},
          "execution_count": 96
        }
      ]
    },
    {
      "cell_type": "code",
      "metadata": {
        "colab": {
          "base_uri": "https://localhost:8080/",
          "height": 81
        },
        "id": "JJIZC-hpGQcA",
        "outputId": "3c59f97c-319a-4d36-afda-8417eca332ec"
      },
      "source": [
        "#DataFrame com a média e o desvio padrão do consumo de cereais (%), da taxa de recuperação (%) e da taxa de mortalidade (%).\n",
        "df = pd.DataFrame({'Média de Consumo'     : [df_obesidade['Consumo de Cereais (%)'].mean()],\n",
        "                   'DP Consumo'           : [df_obesidade['Consumo de Cereais (%)'].std(ddof=0)],\n",
        "                   'Média de Recuperação' : [df_obesidade['Taxa de Recuperação (%)'].mean()],\n",
        "                   'DP Recuperação'       : [df_obesidade['Taxa de Recuperação (%)'].std(ddof=0)],\n",
        "                   'Média de Mortalidade' : [df_obesidade['Taxa de Mortalidade (%)'].mean()],\n",
        "                   'DP Mortalidade'       : [df_obesidade['Taxa de Mortalidade (%)'].std(ddof=0)]})\n",
        "df"
      ],
      "execution_count": null,
      "outputs": [
        {
          "output_type": "execute_result",
          "data": {
            "text/html": [
              "<div>\n",
              "<style scoped>\n",
              "    .dataframe tbody tr th:only-of-type {\n",
              "        vertical-align: middle;\n",
              "    }\n",
              "\n",
              "    .dataframe tbody tr th {\n",
              "        vertical-align: top;\n",
              "    }\n",
              "\n",
              "    .dataframe thead th {\n",
              "        text-align: right;\n",
              "    }\n",
              "</style>\n",
              "<table border=\"1\" class=\"dataframe\">\n",
              "  <thead>\n",
              "    <tr style=\"text-align: right;\">\n",
              "      <th></th>\n",
              "      <th>Média de Consumo</th>\n",
              "      <th>DP Consumo</th>\n",
              "      <th>Média de Recuperação</th>\n",
              "      <th>DP Recuperação</th>\n",
              "      <th>Média de Mortalidade</th>\n",
              "      <th>DP Mortalidade</th>\n",
              "    </tr>\n",
              "  </thead>\n",
              "  <tbody>\n",
              "    <tr>\n",
              "      <th>0</th>\n",
              "      <td>16.803329</td>\n",
              "      <td>3.462199</td>\n",
              "      <td>97.556971</td>\n",
              "      <td>3.192355</td>\n",
              "      <td>2.443029</td>\n",
              "      <td>3.192355</td>\n",
              "    </tr>\n",
              "  </tbody>\n",
              "</table>\n",
              "</div>"
            ],
            "text/plain": [
              "   Média de Consumo  DP Consumo  ...  Média de Mortalidade  DP Mortalidade\n",
              "0         16.803329    3.462199  ...              2.443029        3.192355\n",
              "\n",
              "[1 rows x 6 columns]"
            ]
          },
          "metadata": {},
          "execution_count": 97
        }
      ]
    },
    {
      "cell_type": "code",
      "metadata": {
        "colab": {
          "base_uri": "https://localhost:8080/",
          "height": 143
        },
        "id": "X02Z4ItWtexO",
        "outputId": "03235720-3b4e-4c09-c9e9-b0811451fa32"
      },
      "source": [
        "#DataFrame com o coeficiente r de correlação linear de Pearson.\n",
        "df_obesidade.corr()"
      ],
      "execution_count": null,
      "outputs": [
        {
          "output_type": "execute_result",
          "data": {
            "text/html": [
              "<div>\n",
              "<style scoped>\n",
              "    .dataframe tbody tr th:only-of-type {\n",
              "        vertical-align: middle;\n",
              "    }\n",
              "\n",
              "    .dataframe tbody tr th {\n",
              "        vertical-align: top;\n",
              "    }\n",
              "\n",
              "    .dataframe thead th {\n",
              "        text-align: right;\n",
              "    }\n",
              "</style>\n",
              "<table border=\"1\" class=\"dataframe\">\n",
              "  <thead>\n",
              "    <tr style=\"text-align: right;\">\n",
              "      <th></th>\n",
              "      <th>Consumo de Cereais (%)</th>\n",
              "      <th>Taxa de Recuperação (%)</th>\n",
              "      <th>Taxa de Mortalidade (%)</th>\n",
              "    </tr>\n",
              "  </thead>\n",
              "  <tbody>\n",
              "    <tr>\n",
              "      <th>Consumo de Cereais (%)</th>\n",
              "      <td>1.000000</td>\n",
              "      <td>-0.173745</td>\n",
              "      <td>0.173745</td>\n",
              "    </tr>\n",
              "    <tr>\n",
              "      <th>Taxa de Recuperação (%)</th>\n",
              "      <td>-0.173745</td>\n",
              "      <td>1.000000</td>\n",
              "      <td>-1.000000</td>\n",
              "    </tr>\n",
              "    <tr>\n",
              "      <th>Taxa de Mortalidade (%)</th>\n",
              "      <td>0.173745</td>\n",
              "      <td>-1.000000</td>\n",
              "      <td>1.000000</td>\n",
              "    </tr>\n",
              "  </tbody>\n",
              "</table>\n",
              "</div>"
            ],
            "text/plain": [
              "                         Consumo de Cereais (%)  ...  Taxa de Mortalidade (%)\n",
              "Consumo de Cereais (%)                 1.000000  ...                 0.173745\n",
              "Taxa de Recuperação (%)               -0.173745  ...                -1.000000\n",
              "Taxa de Mortalidade (%)                0.173745  ...                 1.000000\n",
              "\n",
              "[3 rows x 3 columns]"
            ]
          },
          "metadata": {},
          "execution_count": 98
        }
      ]
    },
    {
      "cell_type": "code",
      "metadata": {
        "colab": {
          "base_uri": "https://localhost:8080/",
          "height": 854
        },
        "id": "Vd5w8n89Ghzy",
        "outputId": "4fbafd45-5773-4521-ba6d-022e9ef8e9fc"
      },
      "source": [
        "#Gráficos de regressão linear.\n",
        "apresentar(df_obesidade)"
      ],
      "execution_count": null,
      "outputs": [
        {
          "output_type": "stream",
          "name": "stdout",
          "text": [
            "Coeficiente r de correlação linear de Pearson:\n",
            "\n",
            "Consumo x Recuperação:  (-0.17374544658286006, 0.7094723774394411)\n",
            "r = -0.1737454465828601\n",
            "\n",
            "Consumo x Mortalidade:  (0.17374544658286045, 0.70947237743944)\n",
            "r = 0.17374544658286048\n",
            "\n",
            "\n",
            "Equação: y = 100.25 + -0.1602X\n",
            "\n",
            "\n"
          ]
        },
        {
          "output_type": "display_data",
          "data": {
            "image/png": "[encoded data removed]",
            "text/plain": [
              "<Figure size 432x288 with 1 Axes>"
            ]
          },
          "metadata": {
            "needs_background": "light"
          }
        },
        {
          "output_type": "stream",
          "name": "stdout",
          "text": [
            "\n",
            "\n",
            "Equação: y = -0.24893 + 0.1602X\n",
            "\n",
            "\n"
          ]
        },
        {
          "output_type": "display_data",
          "data": {
            "image/png": "[encoded data removed]",
            "text/plain": [
              "<Figure size 432x288 with 1 Axes>"
            ]
          },
          "metadata": {
            "needs_background": "light"
          }
        }
      ]
    }
  ]
}